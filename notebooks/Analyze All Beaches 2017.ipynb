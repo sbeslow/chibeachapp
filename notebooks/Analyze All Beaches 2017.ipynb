{
 "cells": [
  {
   "cell_type": "code",
   "execution_count": 2,
   "metadata": {
    "collapsed": true
   },
   "outputs": [],
   "source": [
    "import pandas as pd\n",
    "from datetime import datetime\n",
    "import matplotlib.pyplot as plt\n",
    "import numpy as np\n",
    "%matplotlib inline"
   ]
  },
  {
   "cell_type": "code",
   "execution_count": 3,
   "metadata": {
    "scrolled": false
   },
   "outputs": [
    {
     "name": "stdout",
     "output_type": "stream",
     "text": [
      "Deleting columns: \n",
      "There are 20 beaches\n"
     ]
    },
    {
     "data": {
      "text/html": [
       "<div>\n",
       "<table border=\"1\" class=\"dataframe\">\n",
       "  <thead>\n",
       "    <tr style=\"text-align: right;\">\n",
       "      <th></th>\n",
       "      <th>dna_reading_mean</th>\n",
       "      <th>dna_test_id</th>\n",
       "      <th>location</th>\n",
       "      <th>date</th>\n",
       "      <th>beach_name</th>\n",
       "      <th>predicted_level</th>\n",
       "    </tr>\n",
       "  </thead>\n",
       "  <tbody>\n",
       "    <tr>\n",
       "      <th>0</th>\n",
       "      <td>162.628411</td>\n",
       "      <td>3083</td>\n",
       "      <td>{'type': 'Point', 'coordinates': [-87.5299, 41...</td>\n",
       "      <td>2017-06-23</td>\n",
       "      <td>Calumet</td>\n",
       "      <td>NaN</td>\n",
       "    </tr>\n",
       "    <tr>\n",
       "      <th>1</th>\n",
       "      <td>538.273165</td>\n",
       "      <td>3192</td>\n",
       "      <td>{'type': 'Point', 'coordinates': [-87.6545, 41...</td>\n",
       "      <td>2017-06-23</td>\n",
       "      <td>Osterman</td>\n",
       "      <td>290.3</td>\n",
       "    </tr>\n",
       "    <tr>\n",
       "      <th>2</th>\n",
       "      <td>1386.880673</td>\n",
       "      <td>3190</td>\n",
       "      <td>{'type': 'Point', 'coordinates': [-87.6385, 41...</td>\n",
       "      <td>2017-06-23</td>\n",
       "      <td>Montrose</td>\n",
       "      <td>NaN</td>\n",
       "    </tr>\n",
       "    <tr>\n",
       "      <th>3</th>\n",
       "      <td>5393.683435</td>\n",
       "      <td>3205</td>\n",
       "      <td>{'type': 'Point', 'coordinates': [-87.5748, 41...</td>\n",
       "      <td>2017-06-23</td>\n",
       "      <td>63rd Street</td>\n",
       "      <td>NaN</td>\n",
       "    </tr>\n",
       "    <tr>\n",
       "      <th>4</th>\n",
       "      <td>203.749847</td>\n",
       "      <td>3191</td>\n",
       "      <td>{'type': 'Point', 'coordinates': [-87.6515, 41...</td>\n",
       "      <td>2017-06-23</td>\n",
       "      <td>Foster</td>\n",
       "      <td>275.0</td>\n",
       "    </tr>\n",
       "  </tbody>\n",
       "</table>\n",
       "</div>"
      ],
      "text/plain": [
       "   dna_reading_mean  dna_test_id  \\\n",
       "0        162.628411         3083   \n",
       "1        538.273165         3192   \n",
       "2       1386.880673         3190   \n",
       "3       5393.683435         3205   \n",
       "4        203.749847         3191   \n",
       "\n",
       "                                            location        date   beach_name  \\\n",
       "0  {'type': 'Point', 'coordinates': [-87.5299, 41...  2017-06-23      Calumet   \n",
       "1  {'type': 'Point', 'coordinates': [-87.6545, 41...  2017-06-23     Osterman   \n",
       "2  {'type': 'Point', 'coordinates': [-87.6385, 41...  2017-06-23     Montrose   \n",
       "3  {'type': 'Point', 'coordinates': [-87.5748, 41...  2017-06-23  63rd Street   \n",
       "4  {'type': 'Point', 'coordinates': [-87.6515, 41...  2017-06-23       Foster   \n",
       "\n",
       "   predicted_level  \n",
       "0              NaN  \n",
       "1            290.3  \n",
       "2              NaN  \n",
       "3              NaN  \n",
       "4            275.0  "
      ]
     },
     "execution_count": 3,
     "metadata": {},
     "output_type": "execute_result"
    }
   ],
   "source": [
    "# Get the latest data from the Chicago data portal right now\n",
    "%run \"Get beach_days from API.ipynb\"\n",
    "beach_days.head()"
   ]
  },
  {
   "cell_type": "code",
   "execution_count": 4,
   "metadata": {},
   "outputs": [
    {
     "name": "stdout",
     "output_type": "stream",
     "text": [
      "Samples were taken across 29 days\n"
     ]
    }
   ],
   "source": [
    "# How many days of samples were taken\n",
    "print(\"Samples were taken across %s days\" % len(beach_days['date'].unique()))"
   ]
  },
  {
   "cell_type": "code",
   "execution_count": 5,
   "metadata": {},
   "outputs": [
    {
     "name": "stdout",
     "output_type": "stream",
     "text": [
      "There are 573 total beach-days, and 399 unique predictions\n"
     ]
    }
   ],
   "source": [
    "print(\"There are %s total beach-days, and %s unique predictions\" %\n",
    "     (str(len(beach_days)), str(len(beach_days.loc[~beach_days['predicted_level'].isnull()]))))"
   ]
  },
  {
   "cell_type": "code",
   "execution_count": 6,
   "metadata": {},
   "outputs": [
    {
     "name": "stdout",
     "output_type": "stream",
     "text": [
      "There were 0 samples predicted above the threshold, and 41 that actually were\n"
     ]
    }
   ],
   "source": [
    "print(\"There were %s samples predicted above the threshold, and %s that actually were\" %\n",
    "     (str(len(beach_days.loc[beach_days['predicted_level'] > 1000])),\n",
    "      str(len(beach_days.loc[beach_days['dna_reading_mean'] > 1000]))))"
   ]
  },
  {
   "cell_type": "code",
   "execution_count": 7,
   "metadata": {},
   "outputs": [
    {
     "data": {
      "text/plain": [
       "<matplotlib.axes._subplots.AxesSubplot at 0x112ed0ac8>"
      ]
     },
     "execution_count": 7,
     "metadata": {},
     "output_type": "execute_result"
    },
    {
     "data": {
      "image/png": "[encoded data removed]",
      "text/plain": [
       "<matplotlib.figure.Figure at 0x112ed0be0>"
      ]
     },
     "metadata": {},
     "output_type": "display_data"
    }
   ],
   "source": [
    "# For the DNA testing, the threshold for an advisory is 1000 CFU.  How many beaches exceed that?\n",
    "beach_days.loc[beach_days['dna_reading_mean'] >= 1000].groupby('beach_name').count()['date']\\\n",
    "    .sort_values(ascending=False).plot(kind=\"bar\", title=\"Samples above 1000 cfu\")"
   ]
  },
  {
   "cell_type": "code",
   "execution_count": 8,
   "metadata": {},
   "outputs": [
    {
     "data": {
      "text/plain": [
       "<matplotlib.text.Text at 0x1141829b0>"
      ]
     },
     "execution_count": 8,
     "metadata": {},
     "output_type": "execute_result"
    },
    {
     "data": {
      "image/png": "[encoded data removed]",
      "text/plain": [
       "<matplotlib.figure.Figure at 0x1140a42e8>"
      ]
     },
     "metadata": {},
     "output_type": "display_data"
    }
   ],
   "source": [
    "beach_days.loc[beach_days['dna_reading_mean'] >= 1000].groupby('date').count()['location']\\\n",
    "    .plot(kind=\"bar\", title=\"Days with samples above 1000 cfu\").set_ylabel(\"Numbrt of samples exceeding threshold\")"
   ]
  },
  {
   "cell_type": "code",
   "execution_count": 9,
   "metadata": {
    "scrolled": true
   },
   "outputs": [
    {
     "data": {
      "text/plain": [
       "<matplotlib.axes._subplots.AxesSubplot at 0x1142fcc88>"
      ]
     },
     "execution_count": 9,
     "metadata": {},
     "output_type": "execute_result"
    },
    {
     "data": {
      "image/png": "[encoded data removed]",
      "text/plain": [
       "<matplotlib.figure.Figure at 0x1142cc358>"
      ]
     },
     "metadata": {},
     "output_type": "display_data"
    }
   ],
   "source": [
    "# Samples that exceed threshold\n",
    "beach_days['dna_exceeds'] = beach_days['dna_reading_mean'] > 1000\n",
    "beach_days.groupby('dna_exceeds').count()['date'].plot(kind=\"pie\", title=\"Percent of samples taken that exceed 1000 cfu\", autopct='%1.1f%%')"
   ]
  },
  {
   "cell_type": "code",
   "execution_count": 11,
   "metadata": {},
   "outputs": [
    {
     "data": {
      "text/html": [
       "<div>\n",
       "<table border=\"1\" class=\"dataframe\">\n",
       "  <thead>\n",
       "    <tr style=\"text-align: right;\">\n",
       "      <th></th>\n",
       "      <th>beach_name</th>\n",
       "      <th>date</th>\n",
       "      <th>dna_reading_mean</th>\n",
       "    </tr>\n",
       "  </thead>\n",
       "  <tbody>\n",
       "    <tr>\n",
       "      <th>210</th>\n",
       "      <td>63rd Street</td>\n",
       "      <td>2017-06-13</td>\n",
       "      <td>9386.074046</td>\n",
       "    </tr>\n",
       "    <tr>\n",
       "      <th>7</th>\n",
       "      <td>Humboldt</td>\n",
       "      <td>2017-06-23</td>\n",
       "      <td>7451.962963</td>\n",
       "    </tr>\n",
       "    <tr>\n",
       "      <th>80</th>\n",
       "      <td>Ohio Street</td>\n",
       "      <td>2017-06-19</td>\n",
       "      <td>6264.337954</td>\n",
       "    </tr>\n",
       "    <tr>\n",
       "      <th>169</th>\n",
       "      <td>Humboldt</td>\n",
       "      <td>2017-06-15</td>\n",
       "      <td>6083.474829</td>\n",
       "    </tr>\n",
       "    <tr>\n",
       "      <th>510</th>\n",
       "      <td>Humboldt</td>\n",
       "      <td>2017-05-29</td>\n",
       "      <td>5669.991182</td>\n",
       "    </tr>\n",
       "    <tr>\n",
       "      <th>3</th>\n",
       "      <td>63rd Street</td>\n",
       "      <td>2017-06-23</td>\n",
       "      <td>5393.683435</td>\n",
       "    </tr>\n",
       "    <tr>\n",
       "      <th>496</th>\n",
       "      <td>Humboldt</td>\n",
       "      <td>2017-05-30</td>\n",
       "      <td>4565.198791</td>\n",
       "    </tr>\n",
       "    <tr>\n",
       "      <th>69</th>\n",
       "      <td>63rd Street</td>\n",
       "      <td>2017-06-20</td>\n",
       "      <td>3794.843080</td>\n",
       "    </tr>\n",
       "    <tr>\n",
       "      <th>203</th>\n",
       "      <td>Montrose</td>\n",
       "      <td>2017-06-13</td>\n",
       "      <td>3619.694186</td>\n",
       "    </tr>\n",
       "    <tr>\n",
       "      <th>357</th>\n",
       "      <td>Montrose</td>\n",
       "      <td>2017-06-05</td>\n",
       "      <td>3223.844289</td>\n",
       "    </tr>\n",
       "    <tr>\n",
       "      <th>263</th>\n",
       "      <td>Montrose</td>\n",
       "      <td>2017-06-10</td>\n",
       "      <td>3130.439266</td>\n",
       "    </tr>\n",
       "    <tr>\n",
       "      <th>95</th>\n",
       "      <td>63rd Street</td>\n",
       "      <td>2017-06-19</td>\n",
       "      <td>2989.556154</td>\n",
       "    </tr>\n",
       "    <tr>\n",
       "      <th>533</th>\n",
       "      <td>Humboldt</td>\n",
       "      <td>2017-05-28</td>\n",
       "      <td>2663.274676</td>\n",
       "    </tr>\n",
       "    <tr>\n",
       "      <th>5</th>\n",
       "      <td>Rainbow</td>\n",
       "      <td>2017-06-23</td>\n",
       "      <td>2559.124850</td>\n",
       "    </tr>\n",
       "    <tr>\n",
       "      <th>197</th>\n",
       "      <td>Montrose</td>\n",
       "      <td>2017-06-14</td>\n",
       "      <td>2519.698196</td>\n",
       "    </tr>\n",
       "    <tr>\n",
       "      <th>180</th>\n",
       "      <td>63rd Street</td>\n",
       "      <td>2017-06-14</td>\n",
       "      <td>2244.110291</td>\n",
       "    </tr>\n",
       "    <tr>\n",
       "      <th>204</th>\n",
       "      <td>57th Street</td>\n",
       "      <td>2017-06-13</td>\n",
       "      <td>2036.163058</td>\n",
       "    </tr>\n",
       "    <tr>\n",
       "      <th>57</th>\n",
       "      <td>Rainbow</td>\n",
       "      <td>2017-06-21</td>\n",
       "      <td>2003.142531</td>\n",
       "    </tr>\n",
       "    <tr>\n",
       "      <th>544</th>\n",
       "      <td>Humboldt</td>\n",
       "      <td>2017-05-27</td>\n",
       "      <td>1995.911321</td>\n",
       "    </tr>\n",
       "    <tr>\n",
       "      <th>99</th>\n",
       "      <td>Humboldt</td>\n",
       "      <td>2017-06-19</td>\n",
       "      <td>1836.393749</td>\n",
       "    </tr>\n",
       "  </tbody>\n",
       "</table>\n",
       "</div>"
      ],
      "text/plain": [
       "      beach_name        date  dna_reading_mean\n",
       "210  63rd Street  2017-06-13       9386.074046\n",
       "7       Humboldt  2017-06-23       7451.962963\n",
       "80   Ohio Street  2017-06-19       6264.337954\n",
       "169     Humboldt  2017-06-15       6083.474829\n",
       "510     Humboldt  2017-05-29       5669.991182\n",
       "3    63rd Street  2017-06-23       5393.683435\n",
       "496     Humboldt  2017-05-30       4565.198791\n",
       "69   63rd Street  2017-06-20       3794.843080\n",
       "203     Montrose  2017-06-13       3619.694186\n",
       "357     Montrose  2017-06-05       3223.844289\n",
       "263     Montrose  2017-06-10       3130.439266\n",
       "95   63rd Street  2017-06-19       2989.556154\n",
       "533     Humboldt  2017-05-28       2663.274676\n",
       "5        Rainbow  2017-06-23       2559.124850\n",
       "197     Montrose  2017-06-14       2519.698196\n",
       "180  63rd Street  2017-06-14       2244.110291\n",
       "204  57th Street  2017-06-13       2036.163058\n",
       "57       Rainbow  2017-06-21       2003.142531\n",
       "544     Humboldt  2017-05-27       1995.911321\n",
       "99      Humboldt  2017-06-19       1836.393749"
      ]
     },
     "execution_count": 11,
     "metadata": {},
     "output_type": "execute_result"
    }
   ],
   "source": [
    "# What have been the highest readings so far?\n",
    "beach_days.sort_values('dna_reading_mean', ascending=False)[['beach_name', 'date', 'dna_reading_mean']].head(20)"
   ]
  },
  {
   "cell_type": "code",
   "execution_count": null,
   "metadata": {
    "collapsed": true
   },
   "outputs": [],
   "source": []
  }
 ],
 "metadata": {
  "kernelspec": {
   "display_name": "Python 3",
   "language": "python",
   "name": "python3"
  },
  "language_info": {
   "codemirror_mode": {
    "name": "ipython",
    "version": 3
   },
   "file_extension": ".py",
   "mimetype": "text/x-python",
   "name": "python",
   "nbconvert_exporter": "python",
   "pygments_lexer": "ipython3",
   "version": "3.6.1"
  }
 },
 "nbformat": 4,
 "nbformat_minor": 2
}
