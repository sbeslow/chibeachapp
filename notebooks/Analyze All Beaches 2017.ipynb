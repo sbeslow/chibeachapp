{
 "cells": [
  {
   "cell_type": "code",
   "execution_count": 1,
   "metadata": {},
   "outputs": [
    {
     "name": "stdout",
     "output_type": "stream",
     "text": [
      "This is as of 2017-06-25 08:56:57.000601\n"
     ]
    }
   ],
   "source": [
    "import pandas as pd\n",
    "from datetime import datetime\n",
    "import matplotlib.pyplot as plt\n",
    "import numpy as np\n",
    "%matplotlib inline\n",
    "\n",
    "print(\"This is as of \" + str(datetime.now()))"
   ]
  },
  {
   "cell_type": "code",
   "execution_count": 2,
   "metadata": {
    "scrolled": false
   },
   "outputs": [
    {
     "name": "stdout",
     "output_type": "stream",
     "text": [
      "Deleting columns: \n",
      "There are 20 beaches\n"
     ]
    },
    {
     "data": {
      "text/html": [
       "<div>\n",
       "<table border=\"1\" class=\"dataframe\">\n",
       "  <thead>\n",
       "    <tr style=\"text-align: right;\">\n",
       "      <th></th>\n",
       "      <th>dna_reading_mean</th>\n",
       "      <th>dna_test_id</th>\n",
       "      <th>location</th>\n",
       "      <th>date</th>\n",
       "      <th>beach_name</th>\n",
       "      <th>predicted_level</th>\n",
       "    </tr>\n",
       "  </thead>\n",
       "  <tbody>\n",
       "    <tr>\n",
       "      <th>0</th>\n",
       "      <td>85.994186</td>\n",
       "      <td>3226</td>\n",
       "      <td>{'type': 'Point', 'coordinates': [-87.5636, 41...</td>\n",
       "      <td>2017-06-24</td>\n",
       "      <td>South Shore</td>\n",
       "      <td>NaN</td>\n",
       "    </tr>\n",
       "    <tr>\n",
       "      <th>1</th>\n",
       "      <td>2365.059407</td>\n",
       "      <td>3225</td>\n",
       "      <td>{'type': 'Point', 'coordinates': [-87.5299, 41...</td>\n",
       "      <td>2017-06-24</td>\n",
       "      <td>Calumet</td>\n",
       "      <td>NaN</td>\n",
       "    </tr>\n",
       "    <tr>\n",
       "      <th>2</th>\n",
       "      <td>1554.232286</td>\n",
       "      <td>3245</td>\n",
       "      <td>{'type': 'Point', 'coordinates': [-87.551, 41....</td>\n",
       "      <td>2017-06-24</td>\n",
       "      <td>Rainbow</td>\n",
       "      <td>NaN</td>\n",
       "    </tr>\n",
       "    <tr>\n",
       "      <th>3</th>\n",
       "      <td>324.910757</td>\n",
       "      <td>3246</td>\n",
       "      <td>{'type': 'Point', 'coordinates': [-87.5748, 41...</td>\n",
       "      <td>2017-06-24</td>\n",
       "      <td>63rd Street</td>\n",
       "      <td>NaN</td>\n",
       "    </tr>\n",
       "    <tr>\n",
       "      <th>4</th>\n",
       "      <td>200.192407</td>\n",
       "      <td>3227</td>\n",
       "      <td>{'type': 'Point', 'coordinates': [-87.5797, 41...</td>\n",
       "      <td>2017-06-24</td>\n",
       "      <td>57th Street</td>\n",
       "      <td>131.5</td>\n",
       "    </tr>\n",
       "  </tbody>\n",
       "</table>\n",
       "</div>"
      ],
      "text/plain": [
       "   dna_reading_mean  dna_test_id  \\\n",
       "0         85.994186         3226   \n",
       "1       2365.059407         3225   \n",
       "2       1554.232286         3245   \n",
       "3        324.910757         3246   \n",
       "4        200.192407         3227   \n",
       "\n",
       "                                            location        date   beach_name  \\\n",
       "0  {'type': 'Point', 'coordinates': [-87.5636, 41...  2017-06-24  South Shore   \n",
       "1  {'type': 'Point', 'coordinates': [-87.5299, 41...  2017-06-24      Calumet   \n",
       "2  {'type': 'Point', 'coordinates': [-87.551, 41....  2017-06-24      Rainbow   \n",
       "3  {'type': 'Point', 'coordinates': [-87.5748, 41...  2017-06-24  63rd Street   \n",
       "4  {'type': 'Point', 'coordinates': [-87.5797, 41...  2017-06-24  57th Street   \n",
       "\n",
       "   predicted_level  \n",
       "0              NaN  \n",
       "1              NaN  \n",
       "2              NaN  \n",
       "3              NaN  \n",
       "4            131.5  "
      ]
     },
     "execution_count": 2,
     "metadata": {},
     "output_type": "execute_result"
    }
   ],
   "source": [
    "# Get the latest data from the Chicago data portal right now\n",
    "%run \"Get beach_days from API.ipynb\"\n",
    "beach_days.head()"
   ]
  },
  {
   "cell_type": "code",
   "execution_count": 3,
   "metadata": {},
   "outputs": [
    {
     "name": "stdout",
     "output_type": "stream",
     "text": [
      "Samples were taken across 30 days\n"
     ]
    }
   ],
   "source": [
    "# How many days of samples were taken\n",
    "print(\"Samples were taken across %s days\" % len(beach_days['date'].unique()))"
   ]
  },
  {
   "cell_type": "code",
   "execution_count": 4,
   "metadata": {},
   "outputs": [
    {
     "name": "stdout",
     "output_type": "stream",
     "text": [
      "There are 593 total beach-days, and 413 unique predictions\n"
     ]
    }
   ],
   "source": [
    "print(\"There are %s total beach-days, and %s unique predictions\" %\n",
    "     (str(len(beach_days)), str(len(beach_days.loc[~beach_days['predicted_level'].isnull()]))))"
   ]
  },
  {
   "cell_type": "code",
   "execution_count": 5,
   "metadata": {},
   "outputs": [
    {
     "name": "stdout",
     "output_type": "stream",
     "text": [
      "There were 0 samples predicted above the threshold, and 43 that actually were\n"
     ]
    }
   ],
   "source": [
    "print(\"There were %s samples predicted above the threshold, and %s that actually were\" %\n",
    "     (str(len(beach_days.loc[beach_days['predicted_level'] > 1000])),\n",
    "      str(len(beach_days.loc[beach_days['dna_reading_mean'] > 1000]))))"
   ]
  },
  {
   "cell_type": "code",
   "execution_count": 6,
   "metadata": {},
   "outputs": [
    {
     "data": {
      "text/plain": [
       "<matplotlib.axes._subplots.AxesSubplot at 0x10ae66fd0>"
      ]
     },
     "execution_count": 6,
     "metadata": {},
     "output_type": "execute_result"
    },
    {
     "data": {
      "image/png": "[encoded data removed]",
      "text/plain": [
       "<matplotlib.figure.Figure at 0x10ae66860>"
      ]
     },
     "metadata": {},
     "output_type": "display_data"
    }
   ],
   "source": [
    "# For the DNA testing, the threshold for an advisory is 1000 CFU.  How many beaches exceed that?\n",
    "beach_days.loc[beach_days['dna_reading_mean'] >= 1000].groupby('beach_name').count()['date']\\\n",
    "    .sort_values(ascending=False).plot(kind=\"bar\", title=\"Samples above 1000 cfu\")"
   ]
  },
  {
   "cell_type": "code",
   "execution_count": 7,
   "metadata": {},
   "outputs": [
    {
     "data": {
      "text/plain": [
       "<matplotlib.text.Text at 0x10b9249b0>"
      ]
     },
     "execution_count": 7,
     "metadata": {},
     "output_type": "execute_result"
    },
    {
     "data": {
      "image/png": "[encoded data removed]",
      "text/plain": [
       "<matplotlib.figure.Figure at 0x10b8eed30>"
      ]
     },
     "metadata": {},
     "output_type": "display_data"
    }
   ],
   "source": [
    "beach_days.loc[beach_days['dna_reading_mean'] >= 1000].groupby('date').count()['location']\\\n",
    "    .plot(kind=\"bar\", title=\"Days with samples above 1000 cfu\").set_ylabel(\"Numbrt of samples exceeding threshold\")"
   ]
  },
  {
   "cell_type": "code",
   "execution_count": 8,
   "metadata": {
    "scrolled": true
   },
   "outputs": [
    {
     "data": {
      "text/plain": [
       "<matplotlib.axes._subplots.AxesSubplot at 0x10bab5978>"
      ]
     },
     "execution_count": 8,
     "metadata": {},
     "output_type": "execute_result"
    },
    {
     "data": {
      "image/png": "[encoded data removed]",
      "text/plain": [
       "<matplotlib.figure.Figure at 0x10b9322b0>"
      ]
     },
     "metadata": {},
     "output_type": "display_data"
    }
   ],
   "source": [
    "# Samples that exceed threshold\n",
    "beach_days['dna_exceeds'] = beach_days['dna_reading_mean'] > 1000\n",
    "beach_days.groupby('dna_exceeds').count()['date'].plot(kind=\"pie\", title=\"Percent of samples taken that exceed 1000 cfu\", autopct='%1.1f%%')"
   ]
  },
  {
   "cell_type": "code",
   "execution_count": 9,
   "metadata": {},
   "outputs": [
    {
     "data": {
      "text/html": [
       "<div>\n",
       "<table border=\"1\" class=\"dataframe\">\n",
       "  <thead>\n",
       "    <tr style=\"text-align: right;\">\n",
       "      <th></th>\n",
       "      <th>beach_name</th>\n",
       "      <th>date</th>\n",
       "      <th>dna_reading_mean</th>\n",
       "    </tr>\n",
       "  </thead>\n",
       "  <tbody>\n",
       "    <tr>\n",
       "      <th>230</th>\n",
       "      <td>63rd Street</td>\n",
       "      <td>2017-06-13</td>\n",
       "      <td>9386.074046</td>\n",
       "    </tr>\n",
       "    <tr>\n",
       "      <th>27</th>\n",
       "      <td>Humboldt</td>\n",
       "      <td>2017-06-23</td>\n",
       "      <td>7451.962963</td>\n",
       "    </tr>\n",
       "    <tr>\n",
       "      <th>100</th>\n",
       "      <td>Ohio Street</td>\n",
       "      <td>2017-06-19</td>\n",
       "      <td>6264.337954</td>\n",
       "    </tr>\n",
       "    <tr>\n",
       "      <th>189</th>\n",
       "      <td>Humboldt</td>\n",
       "      <td>2017-06-15</td>\n",
       "      <td>6083.474829</td>\n",
       "    </tr>\n",
       "    <tr>\n",
       "      <th>530</th>\n",
       "      <td>Humboldt</td>\n",
       "      <td>2017-05-29</td>\n",
       "      <td>5669.991182</td>\n",
       "    </tr>\n",
       "    <tr>\n",
       "      <th>23</th>\n",
       "      <td>63rd Street</td>\n",
       "      <td>2017-06-23</td>\n",
       "      <td>5393.683435</td>\n",
       "    </tr>\n",
       "    <tr>\n",
       "      <th>516</th>\n",
       "      <td>Humboldt</td>\n",
       "      <td>2017-05-30</td>\n",
       "      <td>4565.198791</td>\n",
       "    </tr>\n",
       "    <tr>\n",
       "      <th>89</th>\n",
       "      <td>63rd Street</td>\n",
       "      <td>2017-06-20</td>\n",
       "      <td>3794.843080</td>\n",
       "    </tr>\n",
       "    <tr>\n",
       "      <th>223</th>\n",
       "      <td>Montrose</td>\n",
       "      <td>2017-06-13</td>\n",
       "      <td>3619.694186</td>\n",
       "    </tr>\n",
       "    <tr>\n",
       "      <th>377</th>\n",
       "      <td>Montrose</td>\n",
       "      <td>2017-06-05</td>\n",
       "      <td>3223.844289</td>\n",
       "    </tr>\n",
       "    <tr>\n",
       "      <th>283</th>\n",
       "      <td>Montrose</td>\n",
       "      <td>2017-06-10</td>\n",
       "      <td>3130.439266</td>\n",
       "    </tr>\n",
       "    <tr>\n",
       "      <th>115</th>\n",
       "      <td>63rd Street</td>\n",
       "      <td>2017-06-19</td>\n",
       "      <td>2989.556154</td>\n",
       "    </tr>\n",
       "    <tr>\n",
       "      <th>553</th>\n",
       "      <td>Humboldt</td>\n",
       "      <td>2017-05-28</td>\n",
       "      <td>2663.274676</td>\n",
       "    </tr>\n",
       "    <tr>\n",
       "      <th>25</th>\n",
       "      <td>Rainbow</td>\n",
       "      <td>2017-06-23</td>\n",
       "      <td>2559.124850</td>\n",
       "    </tr>\n",
       "    <tr>\n",
       "      <th>217</th>\n",
       "      <td>Montrose</td>\n",
       "      <td>2017-06-14</td>\n",
       "      <td>2519.698196</td>\n",
       "    </tr>\n",
       "    <tr>\n",
       "      <th>1</th>\n",
       "      <td>Calumet</td>\n",
       "      <td>2017-06-24</td>\n",
       "      <td>2365.059407</td>\n",
       "    </tr>\n",
       "    <tr>\n",
       "      <th>200</th>\n",
       "      <td>63rd Street</td>\n",
       "      <td>2017-06-14</td>\n",
       "      <td>2244.110291</td>\n",
       "    </tr>\n",
       "    <tr>\n",
       "      <th>224</th>\n",
       "      <td>57th Street</td>\n",
       "      <td>2017-06-13</td>\n",
       "      <td>2036.163058</td>\n",
       "    </tr>\n",
       "    <tr>\n",
       "      <th>77</th>\n",
       "      <td>Rainbow</td>\n",
       "      <td>2017-06-21</td>\n",
       "      <td>2003.142531</td>\n",
       "    </tr>\n",
       "    <tr>\n",
       "      <th>564</th>\n",
       "      <td>Humboldt</td>\n",
       "      <td>2017-05-27</td>\n",
       "      <td>1995.911321</td>\n",
       "    </tr>\n",
       "  </tbody>\n",
       "</table>\n",
       "</div>"
      ],
      "text/plain": [
       "      beach_name        date  dna_reading_mean\n",
       "230  63rd Street  2017-06-13       9386.074046\n",
       "27      Humboldt  2017-06-23       7451.962963\n",
       "100  Ohio Street  2017-06-19       6264.337954\n",
       "189     Humboldt  2017-06-15       6083.474829\n",
       "530     Humboldt  2017-05-29       5669.991182\n",
       "23   63rd Street  2017-06-23       5393.683435\n",
       "516     Humboldt  2017-05-30       4565.198791\n",
       "89   63rd Street  2017-06-20       3794.843080\n",
       "223     Montrose  2017-06-13       3619.694186\n",
       "377     Montrose  2017-06-05       3223.844289\n",
       "283     Montrose  2017-06-10       3130.439266\n",
       "115  63rd Street  2017-06-19       2989.556154\n",
       "553     Humboldt  2017-05-28       2663.274676\n",
       "25       Rainbow  2017-06-23       2559.124850\n",
       "217     Montrose  2017-06-14       2519.698196\n",
       "1        Calumet  2017-06-24       2365.059407\n",
       "200  63rd Street  2017-06-14       2244.110291\n",
       "224  57th Street  2017-06-13       2036.163058\n",
       "77       Rainbow  2017-06-21       2003.142531\n",
       "564     Humboldt  2017-05-27       1995.911321"
      ]
     },
     "execution_count": 9,
     "metadata": {},
     "output_type": "execute_result"
    }
   ],
   "source": [
    "# What have been the highest readings so far?\n",
    "beach_days.sort_values('dna_reading_mean', ascending=False)[['beach_name', 'date', 'dna_reading_mean']].head(20)"
   ]
  },
  {
   "cell_type": "code",
   "execution_count": null,
   "metadata": {
    "collapsed": true
   },
   "outputs": [],
   "source": []
  }
 ],
 "metadata": {
  "kernelspec": {
   "display_name": "Python 3",
   "language": "python",
   "name": "python3"
  },
  "language_info": {
   "codemirror_mode": {
    "name": "ipython",
    "version": 3
   },
   "file_extension": ".py",
   "mimetype": "text/x-python",
   "name": "python",
   "nbconvert_exporter": "python",
   "pygments_lexer": "ipython3",
   "version": "3.6.0"
  }
 },
 "nbformat": 4,
 "nbformat_minor": 2
}
