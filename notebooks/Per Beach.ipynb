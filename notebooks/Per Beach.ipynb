{
 "cells": [
  {
   "cell_type": "code",
   "execution_count": 1,
   "metadata": {
    "collapsed": true
   },
   "outputs": [],
   "source": [
    "import pandas as pd"
   ]
  },
  {
   "cell_type": "code",
   "execution_count": 2,
   "metadata": {},
   "outputs": [
    {
     "data": {
      "text/plain": [
       "beach_name                     object\n",
       "culture_sample_1_timestamp     object\n",
       "culture_sample_1_reading      float64\n",
       "culture_sample_2_timestamp     object\n",
       "culture_sample_2_reading      float64\n",
       "culture_reading_mean          float64\n",
       "culture_sample_interval       float64\n",
       "culture_note                  float64\n",
       "dna_sample_timestamp           object\n",
       "dna_sample_1_reading          float64\n",
       "dna_sample_2_reading          float64\n",
       "dna_reading_mean              float64\n",
       "dna_test_id                   float64\n",
       "latitude                      float64\n",
       "longitude                     float64\n",
       "year                            int64\n",
       "dtype: object"
      ]
     },
     "execution_count": 2,
     "metadata": {},
     "output_type": "execute_result"
    }
   ],
   "source": [
    "lab_results = pd.read_csv('data/lab_results_2006-2016.csv')\n",
    "lab_results.dtypes"
   ]
  },
  {
   "cell_type": "code",
   "execution_count": 4,
   "metadata": {},
   "outputs": [
    {
     "data": {
      "text/html": [
       "<div>\n",
       "<table border=\"1\" class=\"dataframe\">\n",
       "  <thead>\n",
       "    <tr style=\"text-align: right;\">\n",
       "      <th></th>\n",
       "      <th>beach_name</th>\n",
       "      <th>culture_sample_1_timestamp</th>\n",
       "      <th>culture_sample_1_reading</th>\n",
       "      <th>culture_sample_2_timestamp</th>\n",
       "      <th>culture_sample_2_reading</th>\n",
       "      <th>culture_reading_mean</th>\n",
       "      <th>culture_sample_interval</th>\n",
       "      <th>culture_note</th>\n",
       "      <th>dna_sample_timestamp</th>\n",
       "      <th>dna_sample_1_reading</th>\n",
       "      <th>dna_sample_2_reading</th>\n",
       "      <th>dna_reading_mean</th>\n",
       "      <th>dna_test_id</th>\n",
       "      <th>latitude</th>\n",
       "      <th>longitude</th>\n",
       "      <th>year</th>\n",
       "    </tr>\n",
       "  </thead>\n",
       "  <tbody>\n",
       "    <tr>\n",
       "      <th>0</th>\n",
       "      <td>12th Street</td>\n",
       "      <td>NaT</td>\n",
       "      <td>NaN</td>\n",
       "      <td>NaT</td>\n",
       "      <td>NaN</td>\n",
       "      <td>NaN</td>\n",
       "      <td>NaN</td>\n",
       "      <td>NaN</td>\n",
       "      <td>2016-08-20 12:40:00</td>\n",
       "      <td>236.0</td>\n",
       "      <td>147.0</td>\n",
       "      <td>186.3</td>\n",
       "      <td>2009.0</td>\n",
       "      <td>41.8638</td>\n",
       "      <td>-87.6083</td>\n",
       "      <td>2016</td>\n",
       "    </tr>\n",
       "    <tr>\n",
       "      <th>1</th>\n",
       "      <td>Rainbow</td>\n",
       "      <td>NaT</td>\n",
       "      <td>NaN</td>\n",
       "      <td>NaT</td>\n",
       "      <td>NaN</td>\n",
       "      <td>NaN</td>\n",
       "      <td>NaN</td>\n",
       "      <td>NaN</td>\n",
       "      <td>2016-06-26 12:38:00</td>\n",
       "      <td>86.0</td>\n",
       "      <td>5.0</td>\n",
       "      <td>20.7</td>\n",
       "      <td>983.0</td>\n",
       "      <td>41.7580</td>\n",
       "      <td>-87.5510</td>\n",
       "      <td>2016</td>\n",
       "    </tr>\n",
       "    <tr>\n",
       "      <th>2</th>\n",
       "      <td>North Avenue</td>\n",
       "      <td>NaT</td>\n",
       "      <td>NaN</td>\n",
       "      <td>NaT</td>\n",
       "      <td>NaN</td>\n",
       "      <td>NaN</td>\n",
       "      <td>NaN</td>\n",
       "      <td>NaN</td>\n",
       "      <td>2016-06-05 12:45:00</td>\n",
       "      <td>63.0</td>\n",
       "      <td>114.0</td>\n",
       "      <td>84.7</td>\n",
       "      <td>610.0</td>\n",
       "      <td>41.9148</td>\n",
       "      <td>-87.6273</td>\n",
       "      <td>2016</td>\n",
       "    </tr>\n",
       "    <tr>\n",
       "      <th>3</th>\n",
       "      <td>63rd Street</td>\n",
       "      <td>NaT</td>\n",
       "      <td>NaN</td>\n",
       "      <td>NaT</td>\n",
       "      <td>NaN</td>\n",
       "      <td>NaN</td>\n",
       "      <td>NaN</td>\n",
       "      <td>NaN</td>\n",
       "      <td>2016-08-20 12:39:00</td>\n",
       "      <td>21.0</td>\n",
       "      <td>41.0</td>\n",
       "      <td>29.3</td>\n",
       "      <td>1989.0</td>\n",
       "      <td>41.7827</td>\n",
       "      <td>-87.5748</td>\n",
       "      <td>2016</td>\n",
       "    </tr>\n",
       "    <tr>\n",
       "      <th>4</th>\n",
       "      <td>North Avenue</td>\n",
       "      <td>NaT</td>\n",
       "      <td>NaN</td>\n",
       "      <td>NaT</td>\n",
       "      <td>NaN</td>\n",
       "      <td>NaN</td>\n",
       "      <td>NaN</td>\n",
       "      <td>NaN</td>\n",
       "      <td>2016-06-11 13:18:00</td>\n",
       "      <td>145.0</td>\n",
       "      <td>112.0</td>\n",
       "      <td>127.4</td>\n",
       "      <td>703.0</td>\n",
       "      <td>41.9148</td>\n",
       "      <td>-87.6273</td>\n",
       "      <td>2016</td>\n",
       "    </tr>\n",
       "  </tbody>\n",
       "</table>\n",
       "</div>"
      ],
      "text/plain": [
       "     beach_name culture_sample_1_timestamp  culture_sample_1_reading  \\\n",
       "0   12th Street                        NaT                       NaN   \n",
       "1       Rainbow                        NaT                       NaN   \n",
       "2  North Avenue                        NaT                       NaN   \n",
       "3   63rd Street                        NaT                       NaN   \n",
       "4  North Avenue                        NaT                       NaN   \n",
       "\n",
       "  culture_sample_2_timestamp  culture_sample_2_reading  culture_reading_mean  \\\n",
       "0                        NaT                       NaN                   NaN   \n",
       "1                        NaT                       NaN                   NaN   \n",
       "2                        NaT                       NaN                   NaN   \n",
       "3                        NaT                       NaN                   NaN   \n",
       "4                        NaT                       NaN                   NaN   \n",
       "\n",
       "   culture_sample_interval  culture_note dna_sample_timestamp  \\\n",
       "0                      NaN           NaN  2016-08-20 12:40:00   \n",
       "1                      NaN           NaN  2016-06-26 12:38:00   \n",
       "2                      NaN           NaN  2016-06-05 12:45:00   \n",
       "3                      NaN           NaN  2016-08-20 12:39:00   \n",
       "4                      NaN           NaN  2016-06-11 13:18:00   \n",
       "\n",
       "   dna_sample_1_reading  dna_sample_2_reading  dna_reading_mean  dna_test_id  \\\n",
       "0                 236.0                 147.0             186.3       2009.0   \n",
       "1                  86.0                   5.0              20.7        983.0   \n",
       "2                  63.0                 114.0              84.7        610.0   \n",
       "3                  21.0                  41.0              29.3       1989.0   \n",
       "4                 145.0                 112.0             127.4        703.0   \n",
       "\n",
       "   latitude  longitude  year  \n",
       "0   41.8638   -87.6083  2016  \n",
       "1   41.7580   -87.5510  2016  \n",
       "2   41.9148   -87.6273  2016  \n",
       "3   41.7827   -87.5748  2016  \n",
       "4   41.9148   -87.6273  2016  "
      ]
     },
     "execution_count": 4,
     "metadata": {},
     "output_type": "execute_result"
    }
   ],
   "source": [
    "lab_results['culture_sample_1_timestamp'] = pd.to_datetime(lab_results['culture_sample_1_timestamp'])\n",
    "lab_results['culture_sample_2_timestamp'] = pd.to_datetime(lab_results['culture_sample_2_timestamp'])\n",
    "lab_results['dna_sample_timestamp'] = pd.to_datetime(lab_results['dna_sample_timestamp'])\n",
    "lab_results.head()"
   ]
  },
  {
   "cell_type": "code",
   "execution_count": 5,
   "metadata": {},
   "outputs": [
    {
     "data": {
      "text/plain": [
       "array(['12th Street', 'Rainbow', 'North Avenue', '63rd Street', 'Calumet',\n",
       "       'Ohio Street', 'South Shore', 'Foster', 'Montrose', 'Osterman',\n",
       "       'Oak Street', 'Howard', 'Rogers', '57th Street', 'Humboldt',\n",
       "       'Oakwood', 'Leone', 'Juneway', 'North Shore', 'Fargo', 'Loyola',\n",
       "       'Lane', 'Montrose Dog'], dtype=object)"
      ]
     },
     "execution_count": 5,
     "metadata": {},
     "output_type": "execute_result"
    }
   ],
   "source": [
    "lab_results['beach_name'].unique()"
   ]
  },
  {
   "cell_type": "code",
   "execution_count": 6,
   "metadata": {
    "collapsed": true
   },
   "outputs": [],
   "source": [
    "# Set the beach you want to assess here\n",
    "beach_to_analyze = 'Montrose'"
   ]
  },
  {
   "cell_type": "code",
   "execution_count": 7,
   "metadata": {},
   "outputs": [
    {
     "name": "stdout",
     "output_type": "stream",
     "text": [
      "There are 890 lab_results for this beach, out of a total of 15197 results across beaches.\n"
     ]
    }
   ],
   "source": [
    "beach_results = lab_results.loc[lab_results['beach_name'] == beach_to_analyze]\n",
    "print(\"There are %s lab_results for this beach, out of a total of %s results across beaches.\"\\\n",
    "      % (str(len(beach_results)), str(len(lab_results))))"
   ]
  },
  {
   "cell_type": "code",
   "execution_count": 24,
   "metadata": {},
   "outputs": [
    {
     "name": "stdout",
     "output_type": "stream",
     "text": [
      "There are 842 DNA samples, of which 211 exceed 235cfu (0.2505938242280285 perc).  There are 14964 culture samples, of which, 2116 exeed 235 cfu (0.1414060411654638 perc)\n"
     ]
    }
   ],
   "source": [
    "dna_samples = lab_results.loc[~lab_results['dna_reading_mean'].isnull()]\n",
    "dna_exceed = len(dna_samples.loc[dna_samples['dna_reading_mean'] >= 235])\n",
    "dna_samples = len(dna_samples)\n",
    "culture_samples = lab_results.loc[~lab_results['culture_reading_mean'].isnull()]\n",
    "culture_exceed = len(culture_samples.loc[culture_samples['culture_reading_mean'] >= 235])\n",
    "culture_samples = len(culture_samples)\n",
    "print(\"There are %s DNA samples, of which %s exceed 235cfu (%s perc).  There are %s culture samples, of which, %s exeed 235 cfu (%s perc)\" %\n",
    "      (str(dna_samples), str(dna_exceed), str(dna_exceed / dna_samples),\n",
    "       str(culture_samples), str(culture_exceed), str(culture_exceed / culture_samples)))"
   ]
  },
  {
   "cell_type": "code",
   "execution_count": null,
   "metadata": {
    "collapsed": true
   },
   "outputs": [],
   "source": []
  }
 ],
 "metadata": {
  "kernelspec": {
   "display_name": "Python 3",
   "language": "python",
   "name": "python3"
  },
  "language_info": {
   "codemirror_mode": {
    "name": "ipython",
    "version": 3
   },
   "file_extension": ".py",
   "mimetype": "text/x-python",
   "name": "python",
   "nbconvert_exporter": "python",
   "pygments_lexer": "ipython3",
   "version": "3.6.0"
  }
 },
 "nbformat": 4,
 "nbformat_minor": 2
}
