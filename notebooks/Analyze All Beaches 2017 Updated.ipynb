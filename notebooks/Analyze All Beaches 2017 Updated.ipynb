{
 "cells": [
  {
   "cell_type": "code",
   "execution_count": null,
   "metadata": {},
   "outputs": [
    {
     "name": "stdout",
     "output_type": "stream",
     "text": [
      "This is as of 2017-08-08 18:31:13.586059\n"
     ]
    }
   ],
   "source": [
    "import pandas as pd\n",
    "from datetime import datetime\n",
    "import matplotlib.pyplot as plt\n",
    "import numpy as np\n",
    "%matplotlib inline\n",
    "\n",
    "print(\"This is as of \" + str(datetime.now()))"
   ]
  },
  {
   "cell_type": "code",
   "execution_count": null,
   "metadata": {
    "scrolled": false
   },
   "outputs": [
    {
     "name": "stdout",
     "output_type": "stream",
     "text": [
      "Deleting columns: \n",
      "WARNING: Maxed out predictions from API - need pagination\n"
     ]
    }
   ],
   "source": [
    "# Get the latest data from the Chicago data portal right now\n",
    "%run \"Get beach_days from API.ipynb\"\n",
    "beach_days.head()"
   ]
  },
  {
   "cell_type": "code",
   "execution_count": null,
   "metadata": {},
   "outputs": [],
   "source": [
    "# How many days of samples were taken\n",
    "print(\"Samples were taken across %s days\" % len(beach_days['date'].unique()))"
   ]
  },
  {
   "cell_type": "code",
   "execution_count": null,
   "metadata": {},
   "outputs": [],
   "source": [
    "print(\"There are %s total beach-days, and %s unique predictions\" %\n",
    "     (str(len(beach_days)), str(len(beach_days.loc[~beach_days['predicted_level'].isnull()]))))"
   ]
  },
  {
   "cell_type": "code",
   "execution_count": null,
   "metadata": {
    "scrolled": true
   },
   "outputs": [],
   "source": [
    "beach_days['elevated'] = beach_days['dna_reading_mean'] >= 1000\n",
    "beach_days['predicted_elevated'] = beach_days['predicted_level'] >=250\n",
    "\n",
    "beach_days.head(10)"
   ]
  },
  {
   "cell_type": "code",
   "execution_count": null,
   "metadata": {},
   "outputs": [],
   "source": [
    "predicted_days = beach_days.loc[~beach_days['predicted_level'].isnull()]\n",
    "len(predicted_days)"
   ]
  },
  {
   "cell_type": "code",
   "execution_count": null,
   "metadata": {},
   "outputs": [],
   "source": [
    "measured_days = beach_days.loc[~beach_days['dna_reading_mean'].isnull()]\n",
    "len(measured_days)"
   ]
  },
  {
   "cell_type": "code",
   "execution_count": null,
   "metadata": {},
   "outputs": [],
   "source": [
    "days_with_both = predicted_days.loc[~predicted_days['dna_reading_mean'].isnull()]\n",
    "len(days_with_both)"
   ]
  },
  {
   "cell_type": "code",
   "execution_count": null,
   "metadata": {},
   "outputs": [],
   "source": [
    "a = pd.DataFrame()\n",
    "a = a.append(\n",
    "    [['TP (elevated, predicted elevated)',\n",
    "         len(days_with_both.loc[(days_with_both['predicted_elevated']) & (days_with_both['elevated'])])],\n",
    "         ['TN (elevated, but predicted not)',\n",
    "         len(days_with_both.loc[(days_with_both['predicted_elevated'] == 0) & (days_with_both['elevated'])])],\n",
    "         ['FP (not elevated, but predicted so)',\n",
    "         len(days_with_both.loc[(days_with_both['predicted_elevated']) & (0 == days_with_both['elevated'])])],\n",
    "         ['FN (not elevated, not predicted so)',\n",
    "         len(days_with_both.loc[(0 == days_with_both['predicted_elevated']) & (0 == days_with_both['elevated'])])]\n",
    "    ]\n",
    ")\n",
    "a.columns = ['label', 'days']\n",
    "a = a.set_index('label')\n",
    "a['days'].plot(kind=\"pie\", title=\"Accuracy of predictions\", autopct='%1.1f%%')"
   ]
  },
  {
   "cell_type": "code",
   "execution_count": null,
   "metadata": {},
   "outputs": [],
   "source": [
    "# For the DNA testing, the threshold for an advisory is 1000 CFU.  How many beaches exceed that?\n",
    "beach_days.loc[beach_days['dna_reading_mean'] >= 1000].groupby('beach_name').count()['date']\\\n",
    "    .sort_values(ascending=False).plot(kind=\"bar\", title=\"Samples above 1000 cfu\")"
   ]
  },
  {
   "cell_type": "code",
   "execution_count": null,
   "metadata": {},
   "outputs": [],
   "source": [
    "beach_days.loc[beach_days['dna_reading_mean'] >= 1000].groupby('date').count()['location']\\\n",
    "    .plot(kind=\"bar\", title=\"Days with samples above 1000 cfu\").set_ylabel(\"Numbrt of samples exceeding threshold\")"
   ]
  },
  {
   "cell_type": "code",
   "execution_count": null,
   "metadata": {
    "scrolled": true
   },
   "outputs": [],
   "source": [
    "# Samples that exceed threshold\n",
    "beach_days['dna_exceeds'] = beach_days['dna_reading_mean'] > 1000\n",
    "beach_days.groupby('dna_exceeds').count()['date'].plot(kind=\"pie\", title=\"Percent of samples taken that exceed 1000 cfu\", autopct='%1.1f%%')"
   ]
  },
  {
   "cell_type": "code",
   "execution_count": null,
   "metadata": {
    "scrolled": true
   },
   "outputs": [],
   "source": [
    "# What have been the highest readings so far?\n",
    "beach_days.sort_values('dna_reading_mean', ascending=False)[['beach_name', 'date', 'dna_reading_mean']].head(20)"
   ]
  },
  {
   "cell_type": "code",
   "execution_count": null,
   "metadata": {
    "collapsed": true
   },
   "outputs": [],
   "source": []
  }
 ],
 "metadata": {
  "kernelspec": {
   "display_name": "Python 3",
   "language": "python",
   "name": "python3"
  },
  "language_info": {
   "codemirror_mode": {
    "name": "ipython",
    "version": 3
   },
   "file_extension": ".py",
   "mimetype": "text/x-python",
   "name": "python",
   "nbconvert_exporter": "python",
   "pygments_lexer": "ipython3",
   "version": "3.6.1"
  }
 },
 "nbformat": 4,
 "nbformat_minor": 2
}
