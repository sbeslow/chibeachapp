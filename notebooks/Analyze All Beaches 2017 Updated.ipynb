{
 "cells": [
  {
   "cell_type": "code",
   "execution_count": 1,
   "metadata": {},
   "outputs": [
    {
     "name": "stdout",
     "output_type": "stream",
     "text": [
      "This is as of 2017-08-08 18:34:54.644180\n"
     ]
    }
   ],
   "source": [
    "import pandas as pd\n",
    "from datetime import datetime\n",
    "import matplotlib.pyplot as plt\n",
    "import numpy as np\n",
    "%matplotlib inline\n",
    "\n",
    "print(\"This is as of \" + str(datetime.now()))"
   ]
  },
  {
   "cell_type": "code",
   "execution_count": 2,
   "metadata": {
    "scrolled": false
   },
   "outputs": [
    {
     "name": "stdout",
     "output_type": "stream",
     "text": [
      "Deleting columns: \n",
      "WARNING: Maxed out predictions from API - need pagination\n",
      "There are 20 beaches\n"
     ]
    },
    {
     "data": {
      "text/html": [
       "<div>\n",
       "<table border=\"1\" class=\"dataframe\">\n",
       "  <thead>\n",
       "    <tr style=\"text-align: right;\">\n",
       "      <th></th>\n",
       "      <th>dna_reading_mean</th>\n",
       "      <th>dna_test_id</th>\n",
       "      <th>location</th>\n",
       "      <th>date</th>\n",
       "      <th>beach_name</th>\n",
       "      <th>predicted_level</th>\n",
       "    </tr>\n",
       "  </thead>\n",
       "  <tbody>\n",
       "    <tr>\n",
       "      <th>0</th>\n",
       "      <td>53.916602</td>\n",
       "      <td>4894</td>\n",
       "      <td>{'type': 'Point', 'coordinates': [-87.6235, 41...</td>\n",
       "      <td>2017-08-08</td>\n",
       "      <td>Oak Street</td>\n",
       "      <td>93.9</td>\n",
       "    </tr>\n",
       "    <tr>\n",
       "      <th>1</th>\n",
       "      <td>35.944402</td>\n",
       "      <td>4893</td>\n",
       "      <td>{'type': 'Point', 'coordinates': [-87.6152, 41...</td>\n",
       "      <td>2017-08-08</td>\n",
       "      <td>Ohio Street</td>\n",
       "      <td>118.4</td>\n",
       "    </tr>\n",
       "    <tr>\n",
       "      <th>2</th>\n",
       "      <td>145.965749</td>\n",
       "      <td>4887</td>\n",
       "      <td>{'type': 'Point', 'coordinates': [-87.5636, 41...</td>\n",
       "      <td>2017-08-08</td>\n",
       "      <td>South Shore</td>\n",
       "      <td>NaN</td>\n",
       "    </tr>\n",
       "    <tr>\n",
       "      <th>3</th>\n",
       "      <td>78.083289</td>\n",
       "      <td>4890</td>\n",
       "      <td>{'type': 'Point', 'coordinates': [-87.5976, 41...</td>\n",
       "      <td>2017-08-08</td>\n",
       "      <td>Oakwood</td>\n",
       "      <td>180.4</td>\n",
       "    </tr>\n",
       "    <tr>\n",
       "      <th>4</th>\n",
       "      <td>96.332757</td>\n",
       "      <td>4898</td>\n",
       "      <td>{'type': 'Point', 'coordinates': [-87.6564, 42...</td>\n",
       "      <td>2017-08-08</td>\n",
       "      <td>Hartigan (Albion)</td>\n",
       "      <td>95.4</td>\n",
       "    </tr>\n",
       "  </tbody>\n",
       "</table>\n",
       "</div>"
      ],
      "text/plain": [
       "   dna_reading_mean  dna_test_id  \\\n",
       "0         53.916602         4894   \n",
       "1         35.944402         4893   \n",
       "2        145.965749         4887   \n",
       "3         78.083289         4890   \n",
       "4         96.332757         4898   \n",
       "\n",
       "                                            location        date  \\\n",
       "0  {'type': 'Point', 'coordinates': [-87.6235, 41...  2017-08-08   \n",
       "1  {'type': 'Point', 'coordinates': [-87.6152, 41...  2017-08-08   \n",
       "2  {'type': 'Point', 'coordinates': [-87.5636, 41...  2017-08-08   \n",
       "3  {'type': 'Point', 'coordinates': [-87.5976, 41...  2017-08-08   \n",
       "4  {'type': 'Point', 'coordinates': [-87.6564, 42...  2017-08-08   \n",
       "\n",
       "          beach_name  predicted_level  \n",
       "0         Oak Street             93.9  \n",
       "1        Ohio Street            118.4  \n",
       "2        South Shore              NaN  \n",
       "3            Oakwood            180.4  \n",
       "4  Hartigan (Albion)             95.4  "
      ]
     },
     "execution_count": 2,
     "metadata": {},
     "output_type": "execute_result"
    }
   ],
   "source": [
    "# Get the latest data from the Chicago data portal right now\n",
    "%run \"Get beach_days from API.ipynb\"\n",
    "beach_days.head()"
   ]
  },
  {
   "cell_type": "code",
   "execution_count": 3,
   "metadata": {},
   "outputs": [
    {
     "name": "stdout",
     "output_type": "stream",
     "text": [
      "Samples were taken across 75 days\n"
     ]
    }
   ],
   "source": [
    "# How many days of samples were taken\n",
    "print(\"Samples were taken across %s days\" % len(beach_days['date'].unique()))"
   ]
  },
  {
   "cell_type": "code",
   "execution_count": 4,
   "metadata": {},
   "outputs": [
    {
     "name": "stdout",
     "output_type": "stream",
     "text": [
      "There are 1483 total beach-days, and 969 unique predictions\n"
     ]
    }
   ],
   "source": [
    "print(\"There are %s total beach-days, and %s unique predictions\" %\n",
    "     (str(len(beach_days)), str(len(beach_days.loc[~beach_days['predicted_level'].isnull()]))))"
   ]
  },
  {
   "cell_type": "code",
   "execution_count": 5,
   "metadata": {
    "scrolled": true
   },
   "outputs": [
    {
     "data": {
      "text/html": [
       "<div>\n",
       "<table border=\"1\" class=\"dataframe\">\n",
       "  <thead>\n",
       "    <tr style=\"text-align: right;\">\n",
       "      <th></th>\n",
       "      <th>dna_reading_mean</th>\n",
       "      <th>dna_test_id</th>\n",
       "      <th>location</th>\n",
       "      <th>date</th>\n",
       "      <th>beach_name</th>\n",
       "      <th>predicted_level</th>\n",
       "      <th>elevated</th>\n",
       "      <th>predicted_elevated</th>\n",
       "    </tr>\n",
       "  </thead>\n",
       "  <tbody>\n",
       "    <tr>\n",
       "      <th>0</th>\n",
       "      <td>53.916602</td>\n",
       "      <td>4894</td>\n",
       "      <td>{'type': 'Point', 'coordinates': [-87.6235, 41...</td>\n",
       "      <td>2017-08-08</td>\n",
       "      <td>Oak Street</td>\n",
       "      <td>93.9</td>\n",
       "      <td>False</td>\n",
       "      <td>False</td>\n",
       "    </tr>\n",
       "    <tr>\n",
       "      <th>1</th>\n",
       "      <td>35.944402</td>\n",
       "      <td>4893</td>\n",
       "      <td>{'type': 'Point', 'coordinates': [-87.6152, 41...</td>\n",
       "      <td>2017-08-08</td>\n",
       "      <td>Ohio Street</td>\n",
       "      <td>118.4</td>\n",
       "      <td>False</td>\n",
       "      <td>False</td>\n",
       "    </tr>\n",
       "    <tr>\n",
       "      <th>2</th>\n",
       "      <td>145.965749</td>\n",
       "      <td>4887</td>\n",
       "      <td>{'type': 'Point', 'coordinates': [-87.5636, 41...</td>\n",
       "      <td>2017-08-08</td>\n",
       "      <td>South Shore</td>\n",
       "      <td>NaN</td>\n",
       "      <td>False</td>\n",
       "      <td>False</td>\n",
       "    </tr>\n",
       "    <tr>\n",
       "      <th>3</th>\n",
       "      <td>78.083289</td>\n",
       "      <td>4890</td>\n",
       "      <td>{'type': 'Point', 'coordinates': [-87.5976, 41...</td>\n",
       "      <td>2017-08-08</td>\n",
       "      <td>Oakwood</td>\n",
       "      <td>180.4</td>\n",
       "      <td>False</td>\n",
       "      <td>False</td>\n",
       "    </tr>\n",
       "    <tr>\n",
       "      <th>4</th>\n",
       "      <td>96.332757</td>\n",
       "      <td>4898</td>\n",
       "      <td>{'type': 'Point', 'coordinates': [-87.6564, 42...</td>\n",
       "      <td>2017-08-08</td>\n",
       "      <td>Hartigan (Albion)</td>\n",
       "      <td>95.4</td>\n",
       "      <td>False</td>\n",
       "      <td>False</td>\n",
       "    </tr>\n",
       "    <tr>\n",
       "      <th>5</th>\n",
       "      <td>178.370401</td>\n",
       "      <td>4889</td>\n",
       "      <td>{'type': 'Point', 'coordinates': [-87.5797, 41...</td>\n",
       "      <td>2017-08-08</td>\n",
       "      <td>57th Street</td>\n",
       "      <td>168.7</td>\n",
       "      <td>False</td>\n",
       "      <td>False</td>\n",
       "    </tr>\n",
       "    <tr>\n",
       "      <th>6</th>\n",
       "      <td>170.850812</td>\n",
       "      <td>4896</td>\n",
       "      <td>{'type': 'Point', 'coordinates': [-87.6385, 41...</td>\n",
       "      <td>2017-08-08</td>\n",
       "      <td>Montrose</td>\n",
       "      <td>NaN</td>\n",
       "      <td>False</td>\n",
       "      <td>False</td>\n",
       "    </tr>\n",
       "    <tr>\n",
       "      <th>7</th>\n",
       "      <td>381.428892</td>\n",
       "      <td>4899</td>\n",
       "      <td>{'type': 'Point', 'coordinates': [-87.6635, 42...</td>\n",
       "      <td>2017-08-08</td>\n",
       "      <td>Leone</td>\n",
       "      <td>97.6</td>\n",
       "      <td>False</td>\n",
       "      <td>False</td>\n",
       "    </tr>\n",
       "    <tr>\n",
       "      <th>8</th>\n",
       "      <td>44.988888</td>\n",
       "      <td>4892</td>\n",
       "      <td>{'type': 'Point', 'coordinates': [-87.6083, 41...</td>\n",
       "      <td>2017-08-08</td>\n",
       "      <td>12th Street</td>\n",
       "      <td>166.6</td>\n",
       "      <td>False</td>\n",
       "      <td>False</td>\n",
       "    </tr>\n",
       "    <tr>\n",
       "      <th>9</th>\n",
       "      <td>165.438810</td>\n",
       "      <td>4905</td>\n",
       "      <td>{'type': 'Point', 'coordinates': [-87.6273, 41...</td>\n",
       "      <td>2017-08-08</td>\n",
       "      <td>North Avenue</td>\n",
       "      <td>90.1</td>\n",
       "      <td>False</td>\n",
       "      <td>False</td>\n",
       "    </tr>\n",
       "  </tbody>\n",
       "</table>\n",
       "</div>"
      ],
      "text/plain": [
       "   dna_reading_mean  dna_test_id  \\\n",
       "0         53.916602         4894   \n",
       "1         35.944402         4893   \n",
       "2        145.965749         4887   \n",
       "3         78.083289         4890   \n",
       "4         96.332757         4898   \n",
       "5        178.370401         4889   \n",
       "6        170.850812         4896   \n",
       "7        381.428892         4899   \n",
       "8         44.988888         4892   \n",
       "9        165.438810         4905   \n",
       "\n",
       "                                            location        date  \\\n",
       "0  {'type': 'Point', 'coordinates': [-87.6235, 41...  2017-08-08   \n",
       "1  {'type': 'Point', 'coordinates': [-87.6152, 41...  2017-08-08   \n",
       "2  {'type': 'Point', 'coordinates': [-87.5636, 41...  2017-08-08   \n",
       "3  {'type': 'Point', 'coordinates': [-87.5976, 41...  2017-08-08   \n",
       "4  {'type': 'Point', 'coordinates': [-87.6564, 42...  2017-08-08   \n",
       "5  {'type': 'Point', 'coordinates': [-87.5797, 41...  2017-08-08   \n",
       "6  {'type': 'Point', 'coordinates': [-87.6385, 41...  2017-08-08   \n",
       "7  {'type': 'Point', 'coordinates': [-87.6635, 42...  2017-08-08   \n",
       "8  {'type': 'Point', 'coordinates': [-87.6083, 41...  2017-08-08   \n",
       "9  {'type': 'Point', 'coordinates': [-87.6273, 41...  2017-08-08   \n",
       "\n",
       "          beach_name  predicted_level elevated predicted_elevated  \n",
       "0         Oak Street             93.9    False              False  \n",
       "1        Ohio Street            118.4    False              False  \n",
       "2        South Shore              NaN    False              False  \n",
       "3            Oakwood            180.4    False              False  \n",
       "4  Hartigan (Albion)             95.4    False              False  \n",
       "5        57th Street            168.7    False              False  \n",
       "6           Montrose              NaN    False              False  \n",
       "7              Leone             97.6    False              False  \n",
       "8        12th Street            166.6    False              False  \n",
       "9       North Avenue             90.1    False              False  "
      ]
     },
     "execution_count": 5,
     "metadata": {},
     "output_type": "execute_result"
    }
   ],
   "source": [
    "beach_days['elevated'] = beach_days['dna_reading_mean'] >= 1000\n",
    "beach_days['predicted_elevated'] = beach_days['predicted_level'] >=250\n",
    "\n",
    "beach_days.head(10)"
   ]
  },
  {
   "cell_type": "code",
   "execution_count": 6,
   "metadata": {},
   "outputs": [
    {
     "data": {
      "text/plain": [
       "969"
      ]
     },
     "execution_count": 6,
     "metadata": {},
     "output_type": "execute_result"
    }
   ],
   "source": [
    "predicted_days = beach_days.loc[~beach_days['predicted_level'].isnull()]\n",
    "len(predicted_days)"
   ]
  },
  {
   "cell_type": "code",
   "execution_count": 7,
   "metadata": {},
   "outputs": [
    {
     "data": {
      "text/plain": [
       "1483"
      ]
     },
     "execution_count": 7,
     "metadata": {},
     "output_type": "execute_result"
    }
   ],
   "source": [
    "measured_days = beach_days.loc[~beach_days['dna_reading_mean'].isnull()]\n",
    "len(measured_days)"
   ]
  },
  {
   "cell_type": "code",
   "execution_count": 8,
   "metadata": {},
   "outputs": [
    {
     "data": {
      "text/plain": [
       "969"
      ]
     },
     "execution_count": 8,
     "metadata": {},
     "output_type": "execute_result"
    }
   ],
   "source": [
    "days_with_both = predicted_days.loc[~predicted_days['dna_reading_mean'].isnull()]\n",
    "len(days_with_both)"
   ]
  },
  {
   "cell_type": "code",
   "execution_count": 9,
   "metadata": {},
   "outputs": [
    {
     "data": {
      "text/plain": [
       "<matplotlib.axes._subplots.AxesSubplot at 0x10f6205c0>"
      ]
     },
     "execution_count": 9,
     "metadata": {},
     "output_type": "execute_result"
    },
    {
     "data": {
      "image/png": "[encoded data removed]",
      "text/plain": [
       "<matplotlib.figure.Figure at 0x10f61b550>"
      ]
     },
     "metadata": {},
     "output_type": "display_data"
    }
   ],
   "source": [
    "a = pd.DataFrame()\n",
    "a = a.append(\n",
    "    [['TP (elevated, predicted elevated)',\n",
    "         len(days_with_both.loc[(days_with_both['predicted_elevated']) & (days_with_both['elevated'])])],\n",
    "         ['TN (elevated, but predicted not)',\n",
    "         len(days_with_both.loc[(days_with_both['predicted_elevated'] == 0) & (days_with_both['elevated'])])],\n",
    "         ['FP (not elevated, but predicted so)',\n",
    "         len(days_with_both.loc[(days_with_both['predicted_elevated']) & (0 == days_with_both['elevated'])])],\n",
    "         ['FN (not elevated, not predicted so)',\n",
    "         len(days_with_both.loc[(0 == days_with_both['predicted_elevated']) & (0 == days_with_both['elevated'])])]\n",
    "    ]\n",
    ")\n",
    "a.columns = ['label', 'days']\n",
    "a = a.set_index('label')\n",
    "a['days'].plot(kind=\"pie\", title=\"Accuracy of predictions\", autopct='%1.1f%%')"
   ]
  },
  {
   "cell_type": "code",
   "execution_count": 10,
   "metadata": {},
   "outputs": [
    {
     "data": {
      "text/plain": [
       "<matplotlib.axes._subplots.AxesSubplot at 0x10f616b70>"
      ]
     },
     "execution_count": 10,
     "metadata": {},
     "output_type": "execute_result"
    },
    {
     "data": {
      "image/png": "[encoded data removed]",
      "text/plain": [
       "<matplotlib.figure.Figure at 0x10f616da0>"
      ]
     },
     "metadata": {},
     "output_type": "display_data"
    }
   ],
   "source": [
    "# For the DNA testing, the threshold for an advisory is 1000 CFU.  How many beaches exceed that?\n",
    "beach_days.loc[beach_days['dna_reading_mean'] >= 1000].groupby('beach_name').count()['date']\\\n",
    "    .sort_values(ascending=False).plot(kind=\"bar\", title=\"Samples above 1000 cfu\")"
   ]
  },
  {
   "cell_type": "code",
   "execution_count": 11,
   "metadata": {},
   "outputs": [
    {
     "data": {
      "text/plain": [
       "<matplotlib.text.Text at 0x10f925a58>"
      ]
     },
     "execution_count": 11,
     "metadata": {},
     "output_type": "execute_result"
    },
    {
     "data": {
      "image/png": "[encoded data removed]",
      "text/plain": [
       "<matplotlib.figure.Figure at 0x10f93d7f0>"
      ]
     },
     "metadata": {},
     "output_type": "display_data"
    }
   ],
   "source": [
    "beach_days.loc[beach_days['dna_reading_mean'] >= 1000].groupby('date').count()['location']\\\n",
    "    .plot(kind=\"bar\", title=\"Days with samples above 1000 cfu\").set_ylabel(\"Numbrt of samples exceeding threshold\")"
   ]
  },
  {
   "cell_type": "code",
   "execution_count": 12,
   "metadata": {
    "scrolled": true
   },
   "outputs": [
    {
     "data": {
      "text/plain": [
       "<matplotlib.axes._subplots.AxesSubplot at 0x10f96f630>"
      ]
     },
     "execution_count": 12,
     "metadata": {},
     "output_type": "execute_result"
    },
    {
     "data": {
      "image/png": "[encoded data removed]",
      "text/plain": [
       "<matplotlib.figure.Figure at 0x10fd62198>"
      ]
     },
     "metadata": {},
     "output_type": "display_data"
    }
   ],
   "source": [
    "# Samples that exceed threshold\n",
    "beach_days['dna_exceeds'] = beach_days['dna_reading_mean'] > 1000\n",
    "beach_days.groupby('dna_exceeds').count()['date'].plot(kind=\"pie\", title=\"Percent of samples taken that exceed 1000 cfu\", autopct='%1.1f%%')"
   ]
  },
  {
   "cell_type": "code",
   "execution_count": 13,
   "metadata": {
    "scrolled": true
   },
   "outputs": [
    {
     "data": {
      "text/html": [
       "<div>\n",
       "<table border=\"1\" class=\"dataframe\">\n",
       "  <thead>\n",
       "    <tr style=\"text-align: right;\">\n",
       "      <th></th>\n",
       "      <th>beach_name</th>\n",
       "      <th>date</th>\n",
       "      <th>dna_reading_mean</th>\n",
       "    </tr>\n",
       "  </thead>\n",
       "  <tbody>\n",
       "    <tr>\n",
       "      <th>379</th>\n",
       "      <td>63rd Street</td>\n",
       "      <td>2017-07-20</td>\n",
       "      <td>39300.270686</td>\n",
       "    </tr>\n",
       "    <tr>\n",
       "      <th>353</th>\n",
       "      <td>Montrose</td>\n",
       "      <td>2017-07-22</td>\n",
       "      <td>20935.984859</td>\n",
       "    </tr>\n",
       "    <tr>\n",
       "      <th>66</th>\n",
       "      <td>Humboldt</td>\n",
       "      <td>2017-08-05</td>\n",
       "      <td>17936.299786</td>\n",
       "    </tr>\n",
       "    <tr>\n",
       "      <th>388</th>\n",
       "      <td>12th Street</td>\n",
       "      <td>2017-07-20</td>\n",
       "      <td>17325.351771</td>\n",
       "    </tr>\n",
       "    <tr>\n",
       "      <th>28</th>\n",
       "      <td>Humboldt</td>\n",
       "      <td>2017-08-07</td>\n",
       "      <td>14186.839394</td>\n",
       "    </tr>\n",
       "    <tr>\n",
       "      <th>374</th>\n",
       "      <td>Humboldt</td>\n",
       "      <td>2017-07-20</td>\n",
       "      <td>13512.746649</td>\n",
       "    </tr>\n",
       "    <tr>\n",
       "      <th>51</th>\n",
       "      <td>Humboldt</td>\n",
       "      <td>2017-08-06</td>\n",
       "      <td>13472.736136</td>\n",
       "    </tr>\n",
       "    <tr>\n",
       "      <th>184</th>\n",
       "      <td>Humboldt</td>\n",
       "      <td>2017-07-30</td>\n",
       "      <td>11263.178947</td>\n",
       "    </tr>\n",
       "    <tr>\n",
       "      <th>1123</th>\n",
       "      <td>63rd Street</td>\n",
       "      <td>2017-06-13</td>\n",
       "      <td>9386.074046</td>\n",
       "    </tr>\n",
       "    <tr>\n",
       "      <th>309</th>\n",
       "      <td>Calumet</td>\n",
       "      <td>2017-07-24</td>\n",
       "      <td>8998.190651</td>\n",
       "    </tr>\n",
       "    <tr>\n",
       "      <th>516</th>\n",
       "      <td>Humboldt</td>\n",
       "      <td>2017-07-13</td>\n",
       "      <td>8826.946584</td>\n",
       "    </tr>\n",
       "    <tr>\n",
       "      <th>637</th>\n",
       "      <td>63rd Street</td>\n",
       "      <td>2017-07-07</td>\n",
       "      <td>7817.292370</td>\n",
       "    </tr>\n",
       "    <tr>\n",
       "      <th>588</th>\n",
       "      <td>Rainbow</td>\n",
       "      <td>2017-07-10</td>\n",
       "      <td>7452.898094</td>\n",
       "    </tr>\n",
       "    <tr>\n",
       "      <th>920</th>\n",
       "      <td>Humboldt</td>\n",
       "      <td>2017-06-23</td>\n",
       "      <td>7451.962963</td>\n",
       "    </tr>\n",
       "    <tr>\n",
       "      <th>310</th>\n",
       "      <td>Margaret T Burroughs (31st)</td>\n",
       "      <td>2017-07-24</td>\n",
       "      <td>7189.622939</td>\n",
       "    </tr>\n",
       "    <tr>\n",
       "      <th>155</th>\n",
       "      <td>Humboldt</td>\n",
       "      <td>2017-08-01</td>\n",
       "      <td>7024.365309</td>\n",
       "    </tr>\n",
       "    <tr>\n",
       "      <th>136</th>\n",
       "      <td>Humboldt</td>\n",
       "      <td>2017-08-02</td>\n",
       "      <td>6974.192426</td>\n",
       "    </tr>\n",
       "    <tr>\n",
       "      <th>109</th>\n",
       "      <td>Humboldt</td>\n",
       "      <td>2017-08-03</td>\n",
       "      <td>6960.082758</td>\n",
       "    </tr>\n",
       "    <tr>\n",
       "      <th>449</th>\n",
       "      <td>Marion Mahony Griffin (Jarvis)</td>\n",
       "      <td>2017-07-17</td>\n",
       "      <td>6838.471320</td>\n",
       "    </tr>\n",
       "    <tr>\n",
       "      <th>993</th>\n",
       "      <td>Ohio Street</td>\n",
       "      <td>2017-06-19</td>\n",
       "      <td>6264.337954</td>\n",
       "    </tr>\n",
       "  </tbody>\n",
       "</table>\n",
       "</div>"
      ],
      "text/plain": [
       "                          beach_name        date  dna_reading_mean\n",
       "379                      63rd Street  2017-07-20      39300.270686\n",
       "353                         Montrose  2017-07-22      20935.984859\n",
       "66                          Humboldt  2017-08-05      17936.299786\n",
       "388                      12th Street  2017-07-20      17325.351771\n",
       "28                          Humboldt  2017-08-07      14186.839394\n",
       "374                         Humboldt  2017-07-20      13512.746649\n",
       "51                          Humboldt  2017-08-06      13472.736136\n",
       "184                         Humboldt  2017-07-30      11263.178947\n",
       "1123                     63rd Street  2017-06-13       9386.074046\n",
       "309                          Calumet  2017-07-24       8998.190651\n",
       "516                         Humboldt  2017-07-13       8826.946584\n",
       "637                      63rd Street  2017-07-07       7817.292370\n",
       "588                          Rainbow  2017-07-10       7452.898094\n",
       "920                         Humboldt  2017-06-23       7451.962963\n",
       "310      Margaret T Burroughs (31st)  2017-07-24       7189.622939\n",
       "155                         Humboldt  2017-08-01       7024.365309\n",
       "136                         Humboldt  2017-08-02       6974.192426\n",
       "109                         Humboldt  2017-08-03       6960.082758\n",
       "449   Marion Mahony Griffin (Jarvis)  2017-07-17       6838.471320\n",
       "993                      Ohio Street  2017-06-19       6264.337954"
      ]
     },
     "execution_count": 13,
     "metadata": {},
     "output_type": "execute_result"
    }
   ],
   "source": [
    "# What have been the highest readings so far?\n",
    "beach_days.sort_values('dna_reading_mean', ascending=False)[['beach_name', 'date', 'dna_reading_mean']].head(20)"
   ]
  },
  {
   "cell_type": "code",
   "execution_count": null,
   "metadata": {
    "collapsed": true
   },
   "outputs": [],
   "source": []
  }
 ],
 "metadata": {
  "kernelspec": {
   "display_name": "Python 3",
   "language": "python",
   "name": "python3"
  },
  "language_info": {
   "codemirror_mode": {
    "name": "ipython",
    "version": 3
   },
   "file_extension": ".py",
   "mimetype": "text/x-python",
   "name": "python",
   "nbconvert_exporter": "python",
   "pygments_lexer": "ipython3",
   "version": "3.6.1"
  }
 },
 "nbformat": 4,
 "nbformat_minor": 2
}
