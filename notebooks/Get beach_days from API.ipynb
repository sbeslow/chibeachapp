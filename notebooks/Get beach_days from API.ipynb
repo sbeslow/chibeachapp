{
 "cells": [
  {
   "cell_type": "code",
   "execution_count": 54,
   "metadata": {
    "collapsed": true
   },
   "outputs": [],
   "source": [
    "import pandas as pd\n",
    "from datetime import datetime, date\n",
    "%matplotlib inline"
   ]
  },
  {
   "cell_type": "code",
   "execution_count": 70,
   "metadata": {},
   "outputs": [
    {
     "name": "stdout",
     "output_type": "stream",
     "text": [
      "Deleting columns: \n"
     ]
    },
    {
     "data": {
      "text/html": [
       "<div>\n",
       "<table border=\"1\" class=\"dataframe\">\n",
       "  <thead>\n",
       "    <tr style=\"text-align: right;\">\n",
       "      <th></th>\n",
       "      <th>beach_name</th>\n",
       "      <th>date</th>\n",
       "      <th>latitude</th>\n",
       "      <th>location</th>\n",
       "      <th>longitude</th>\n",
       "      <th>predicted_level</th>\n",
       "      <th>prediction_source</th>\n",
       "      <th>recordid</th>\n",
       "    </tr>\n",
       "  </thead>\n",
       "  <tbody>\n",
       "    <tr>\n",
       "      <th>0</th>\n",
       "      <td>12th Street</td>\n",
       "      <td>2017-05-26</td>\n",
       "      <td>41.8638</td>\n",
       "      <td>{'type': 'Point', 'coordinates': [-87.6082, 41...</td>\n",
       "      <td>-87.6082</td>\n",
       "      <td>160.0</td>\n",
       "      <td>DNA Model</td>\n",
       "      <td>12thStreet20170526</td>\n",
       "    </tr>\n",
       "    <tr>\n",
       "      <th>1</th>\n",
       "      <td>12th Street</td>\n",
       "      <td>2017-05-27</td>\n",
       "      <td>41.8638</td>\n",
       "      <td>{'type': 'Point', 'coordinates': [-87.6082, 41...</td>\n",
       "      <td>-87.6082</td>\n",
       "      <td>54.7</td>\n",
       "      <td>DNA Model</td>\n",
       "      <td>12thStreet20170527</td>\n",
       "    </tr>\n",
       "    <tr>\n",
       "      <th>2</th>\n",
       "      <td>12th Street</td>\n",
       "      <td>2017-05-28</td>\n",
       "      <td>41.8638</td>\n",
       "      <td>{'type': 'Point', 'coordinates': [-87.6082, 41...</td>\n",
       "      <td>-87.6082</td>\n",
       "      <td>85.9</td>\n",
       "      <td>DNA Model</td>\n",
       "      <td>12thStreet20170528</td>\n",
       "    </tr>\n",
       "    <tr>\n",
       "      <th>3</th>\n",
       "      <td>12th Street</td>\n",
       "      <td>2017-05-29</td>\n",
       "      <td>41.8638</td>\n",
       "      <td>{'type': 'Point', 'coordinates': [-87.6082, 41...</td>\n",
       "      <td>-87.6082</td>\n",
       "      <td>109.5</td>\n",
       "      <td>DNA Model</td>\n",
       "      <td>12thStreet20170529</td>\n",
       "    </tr>\n",
       "    <tr>\n",
       "      <th>4</th>\n",
       "      <td>12th Street</td>\n",
       "      <td>2017-05-30</td>\n",
       "      <td>41.8638</td>\n",
       "      <td>{'type': 'Point', 'coordinates': [-87.6082, 41...</td>\n",
       "      <td>-87.6082</td>\n",
       "      <td>53.2</td>\n",
       "      <td>DNA Model</td>\n",
       "      <td>12thStreet20170530</td>\n",
       "    </tr>\n",
       "  </tbody>\n",
       "</table>\n",
       "</div>"
      ],
      "text/plain": [
       "    beach_name       date  latitude  \\\n",
       "0  12th Street 2017-05-26   41.8638   \n",
       "1  12th Street 2017-05-27   41.8638   \n",
       "2  12th Street 2017-05-28   41.8638   \n",
       "3  12th Street 2017-05-29   41.8638   \n",
       "4  12th Street 2017-05-30   41.8638   \n",
       "\n",
       "                                            location  longitude  \\\n",
       "0  {'type': 'Point', 'coordinates': [-87.6082, 41...   -87.6082   \n",
       "1  {'type': 'Point', 'coordinates': [-87.6082, 41...   -87.6082   \n",
       "2  {'type': 'Point', 'coordinates': [-87.6082, 41...   -87.6082   \n",
       "3  {'type': 'Point', 'coordinates': [-87.6082, 41...   -87.6082   \n",
       "4  {'type': 'Point', 'coordinates': [-87.6082, 41...   -87.6082   \n",
       "\n",
       "   predicted_level prediction_source            recordid  \n",
       "0            160.0         DNA Model  12thStreet20170526  \n",
       "1             54.7         DNA Model  12thStreet20170527  \n",
       "2             85.9         DNA Model  12thStreet20170528  \n",
       "3            109.5         DNA Model  12thStreet20170529  \n",
       "4             53.2         DNA Model  12thStreet20170530  "
      ]
     },
     "execution_count": 70,
     "metadata": {},
     "output_type": "execute_result"
    }
   ],
   "source": [
    "query = ('https://data.cityofchicago.org/resource/ct72-a55e.json?$limit=50000')\n",
    "predictions = pd.read_json(query)\n",
    "cols_to_delete = [_ for _ in predictions.columns if _.startswith(':@')]\n",
    "print('Deleting columns: %s' % ', '.join(cols_to_delete))\n",
    "predictions = predictions.drop(cols_to_delete, axis=1)\n",
    "predictions.head()"
   ]
  },
  {
   "cell_type": "code",
   "execution_count": 56,
   "metadata": {
    "collapsed": true
   },
   "outputs": [],
   "source": [
    "# Dropping more columns I don't care about.  Note, I'll get location from another table in a sec...\n",
    "predictions = predictions.drop(['recordid', 'prediction_source', 'latitude', 'longitude', 'location'], axis=1)"
   ]
  },
  {
   "cell_type": "code",
   "execution_count": 57,
   "metadata": {},
   "outputs": [
    {
     "data": {
      "text/plain": [
       "beach_name                 object\n",
       "date               datetime64[ns]\n",
       "predicted_level           float64\n",
       "dtype: object"
      ]
     },
     "execution_count": 57,
     "metadata": {},
     "output_type": "execute_result"
    }
   ],
   "source": [
    "# These are the datatypes I have\n",
    "predictions.dtypes"
   ]
  },
  {
   "cell_type": "code",
   "execution_count": 58,
   "metadata": {
    "collapsed": true
   },
   "outputs": [],
   "source": [
    "if len(predictions) >= 1000:\n",
    "    print(\"WARNING: Maxed out predictions from API - need pagination\")"
   ]
  },
  {
   "cell_type": "code",
   "execution_count": 59,
   "metadata": {},
   "outputs": [
    {
     "data": {
      "text/html": [
       "<div>\n",
       "<table border=\"1\" class=\"dataframe\">\n",
       "  <thead>\n",
       "    <tr style=\"text-align: right;\">\n",
       "      <th></th>\n",
       "      <th>beach_name</th>\n",
       "      <th>date</th>\n",
       "      <th>predicted_level</th>\n",
       "    </tr>\n",
       "  </thead>\n",
       "  <tbody>\n",
       "    <tr>\n",
       "      <th>0</th>\n",
       "      <td>12th Street</td>\n",
       "      <td>2017-05-26</td>\n",
       "      <td>160.0</td>\n",
       "    </tr>\n",
       "    <tr>\n",
       "      <th>1</th>\n",
       "      <td>12th Street</td>\n",
       "      <td>2017-05-27</td>\n",
       "      <td>54.7</td>\n",
       "    </tr>\n",
       "    <tr>\n",
       "      <th>2</th>\n",
       "      <td>12th Street</td>\n",
       "      <td>2017-05-28</td>\n",
       "      <td>85.9</td>\n",
       "    </tr>\n",
       "    <tr>\n",
       "      <th>3</th>\n",
       "      <td>12th Street</td>\n",
       "      <td>2017-05-29</td>\n",
       "      <td>109.5</td>\n",
       "    </tr>\n",
       "    <tr>\n",
       "      <th>4</th>\n",
       "      <td>12th Street</td>\n",
       "      <td>2017-05-30</td>\n",
       "      <td>53.2</td>\n",
       "    </tr>\n",
       "  </tbody>\n",
       "</table>\n",
       "</div>"
      ],
      "text/plain": [
       "    beach_name        date  predicted_level\n",
       "0  12th Street  2017-05-26            160.0\n",
       "1  12th Street  2017-05-27             54.7\n",
       "2  12th Street  2017-05-28             85.9\n",
       "3  12th Street  2017-05-29            109.5\n",
       "4  12th Street  2017-05-30             53.2"
      ]
     },
     "execution_count": 59,
     "metadata": {},
     "output_type": "execute_result"
    }
   ],
   "source": [
    "predictions['date'] = predictions['date'].dt.date\n",
    "predictions.head()"
   ]
  },
  {
   "cell_type": "code",
   "execution_count": 71,
   "metadata": {
    "scrolled": true
   },
   "outputs": [
    {
     "data": {
      "text/html": [
       "<div>\n",
       "<table border=\"1\" class=\"dataframe\">\n",
       "  <thead>\n",
       "    <tr style=\"text-align: right;\">\n",
       "      <th></th>\n",
       "      <th>beach</th>\n",
       "      <th>dna_reading_mean</th>\n",
       "      <th>dna_sample_1_reading</th>\n",
       "      <th>dna_sample_2_reading</th>\n",
       "      <th>dna_sample_timestamp</th>\n",
       "      <th>dna_test_id</th>\n",
       "      <th>latitude</th>\n",
       "      <th>location</th>\n",
       "      <th>longitude</th>\n",
       "    </tr>\n",
       "  </thead>\n",
       "  <tbody>\n",
       "    <tr>\n",
       "      <th>0</th>\n",
       "      <td>Calumet</td>\n",
       "      <td>162.628411</td>\n",
       "      <td>152</td>\n",
       "      <td>174.0</td>\n",
       "      <td>2017-06-23T00:00:00.000</td>\n",
       "      <td>3083</td>\n",
       "      <td>41.7142</td>\n",
       "      <td>{'type': 'Point', 'coordinates': [-87.5299, 41...</td>\n",
       "      <td>-87.5299</td>\n",
       "    </tr>\n",
       "    <tr>\n",
       "      <th>1</th>\n",
       "      <td>Osterman</td>\n",
       "      <td>538.273165</td>\n",
       "      <td>457</td>\n",
       "      <td>634.0</td>\n",
       "      <td>2017-06-23T00:00:00.000</td>\n",
       "      <td>3192</td>\n",
       "      <td>41.9877</td>\n",
       "      <td>{'type': 'Point', 'coordinates': [-87.6545, 41...</td>\n",
       "      <td>-87.6545</td>\n",
       "    </tr>\n",
       "    <tr>\n",
       "      <th>2</th>\n",
       "      <td>Montrose</td>\n",
       "      <td>1386.880673</td>\n",
       "      <td>1158</td>\n",
       "      <td>1661.0</td>\n",
       "      <td>2017-06-23T00:00:00.000</td>\n",
       "      <td>3190</td>\n",
       "      <td>41.9655</td>\n",
       "      <td>{'type': 'Point', 'coordinates': [-87.6385, 41...</td>\n",
       "      <td>-87.6385</td>\n",
       "    </tr>\n",
       "    <tr>\n",
       "      <th>3</th>\n",
       "      <td>63rd Street</td>\n",
       "      <td>5393.683435</td>\n",
       "      <td>21923</td>\n",
       "      <td>1327.0</td>\n",
       "      <td>2017-06-23T00:00:00.000</td>\n",
       "      <td>3205</td>\n",
       "      <td>41.7827</td>\n",
       "      <td>{'type': 'Point', 'coordinates': [-87.5748, 41...</td>\n",
       "      <td>-87.5748</td>\n",
       "    </tr>\n",
       "    <tr>\n",
       "      <th>4</th>\n",
       "      <td>Foster</td>\n",
       "      <td>203.749847</td>\n",
       "      <td>222</td>\n",
       "      <td>187.0</td>\n",
       "      <td>2017-06-23T00:00:00.000</td>\n",
       "      <td>3191</td>\n",
       "      <td>41.9785</td>\n",
       "      <td>{'type': 'Point', 'coordinates': [-87.6515, 41...</td>\n",
       "      <td>-87.6515</td>\n",
       "    </tr>\n",
       "  </tbody>\n",
       "</table>\n",
       "</div>"
      ],
      "text/plain": [
       "         beach  dna_reading_mean  dna_sample_1_reading  dna_sample_2_reading  \\\n",
       "0      Calumet        162.628411                   152                 174.0   \n",
       "1     Osterman        538.273165                   457                 634.0   \n",
       "2     Montrose       1386.880673                  1158                1661.0   \n",
       "3  63rd Street       5393.683435                 21923                1327.0   \n",
       "4       Foster        203.749847                   222                 187.0   \n",
       "\n",
       "      dna_sample_timestamp  dna_test_id  latitude  \\\n",
       "0  2017-06-23T00:00:00.000         3083   41.7142   \n",
       "1  2017-06-23T00:00:00.000         3192   41.9877   \n",
       "2  2017-06-23T00:00:00.000         3190   41.9655   \n",
       "3  2017-06-23T00:00:00.000         3205   41.7827   \n",
       "4  2017-06-23T00:00:00.000         3191   41.9785   \n",
       "\n",
       "                                            location  longitude  \n",
       "0  {'type': 'Point', 'coordinates': [-87.5299, 41...   -87.5299  \n",
       "1  {'type': 'Point', 'coordinates': [-87.6545, 41...   -87.6545  \n",
       "2  {'type': 'Point', 'coordinates': [-87.6385, 41...   -87.6385  \n",
       "3  {'type': 'Point', 'coordinates': [-87.5748, 41...   -87.5748  \n",
       "4  {'type': 'Point', 'coordinates': [-87.6515, 41...   -87.6515  "
      ]
     },
     "execution_count": 71,
     "metadata": {},
     "output_type": "execute_result"
    }
   ],
   "source": [
    "from urllib.parse import quote\n",
    "query = \"https://data.cityofchicago.org/resource/awhh-mb2r.json?$where=dna_sample_timestamp%20%3E%20%222017-01-01T00:00:00%22&$order=dna_sample_timestamp%20desc&$limit=50000\"\n",
    "lab_results = pd.read_json(query)\n",
    "lab_results.head()"
   ]
  },
  {
   "cell_type": "code",
   "execution_count": 61,
   "metadata": {},
   "outputs": [
    {
     "data": {
      "text/html": [
       "<div>\n",
       "<table border=\"1\" class=\"dataframe\">\n",
       "  <thead>\n",
       "    <tr style=\"text-align: right;\">\n",
       "      <th></th>\n",
       "      <th>beach</th>\n",
       "      <th>dna_reading_mean</th>\n",
       "      <th>dna_sample_timestamp</th>\n",
       "      <th>dna_test_id</th>\n",
       "      <th>location</th>\n",
       "    </tr>\n",
       "  </thead>\n",
       "  <tbody>\n",
       "    <tr>\n",
       "      <th>0</th>\n",
       "      <td>Calumet</td>\n",
       "      <td>162.628411</td>\n",
       "      <td>2017-06-23</td>\n",
       "      <td>3083</td>\n",
       "      <td>{'type': 'Point', 'coordinates': [-87.5299, 41...</td>\n",
       "    </tr>\n",
       "    <tr>\n",
       "      <th>1</th>\n",
       "      <td>Osterman</td>\n",
       "      <td>538.273165</td>\n",
       "      <td>2017-06-23</td>\n",
       "      <td>3192</td>\n",
       "      <td>{'type': 'Point', 'coordinates': [-87.6545, 41...</td>\n",
       "    </tr>\n",
       "    <tr>\n",
       "      <th>2</th>\n",
       "      <td>Montrose</td>\n",
       "      <td>1386.880673</td>\n",
       "      <td>2017-06-23</td>\n",
       "      <td>3190</td>\n",
       "      <td>{'type': 'Point', 'coordinates': [-87.6385, 41...</td>\n",
       "    </tr>\n",
       "    <tr>\n",
       "      <th>3</th>\n",
       "      <td>63rd Street</td>\n",
       "      <td>5393.683435</td>\n",
       "      <td>2017-06-23</td>\n",
       "      <td>3205</td>\n",
       "      <td>{'type': 'Point', 'coordinates': [-87.5748, 41...</td>\n",
       "    </tr>\n",
       "    <tr>\n",
       "      <th>4</th>\n",
       "      <td>Foster</td>\n",
       "      <td>203.749847</td>\n",
       "      <td>2017-06-23</td>\n",
       "      <td>3191</td>\n",
       "      <td>{'type': 'Point', 'coordinates': [-87.6515, 41...</td>\n",
       "    </tr>\n",
       "  </tbody>\n",
       "</table>\n",
       "</div>"
      ],
      "text/plain": [
       "         beach  dna_reading_mean dna_sample_timestamp  dna_test_id  \\\n",
       "0      Calumet        162.628411           2017-06-23         3083   \n",
       "1     Osterman        538.273165           2017-06-23         3192   \n",
       "2     Montrose       1386.880673           2017-06-23         3190   \n",
       "3  63rd Street       5393.683435           2017-06-23         3205   \n",
       "4       Foster        203.749847           2017-06-23         3191   \n",
       "\n",
       "                                            location  \n",
       "0  {'type': 'Point', 'coordinates': [-87.5299, 41...  \n",
       "1  {'type': 'Point', 'coordinates': [-87.6545, 41...  \n",
       "2  {'type': 'Point', 'coordinates': [-87.6385, 41...  \n",
       "3  {'type': 'Point', 'coordinates': [-87.5748, 41...  \n",
       "4  {'type': 'Point', 'coordinates': [-87.6515, 41...  "
      ]
     },
     "execution_count": 61,
     "metadata": {},
     "output_type": "execute_result"
    }
   ],
   "source": [
    "#Since this is only 2017, there are only DNA data\n",
    "lab_results = lab_results[['beach', 'dna_reading_mean', 'dna_sample_timestamp', 'dna_test_id', 'location']]\n",
    "lab_results['dna_sample_timestamp'] = pd.to_datetime(lab_results['dna_sample_timestamp'])\n",
    "lab_results.head()"
   ]
  },
  {
   "cell_type": "code",
   "execution_count": 62,
   "metadata": {},
   "outputs": [
    {
     "data": {
      "text/plain": [
       "['South Shore', 'Montrose', 'Rainbow', 'Calumet', 'Humboldt', '63rd Street']"
      ]
     },
     "execution_count": 62,
     "metadata": {},
     "output_type": "execute_result"
    }
   ],
   "source": [
    "# These are the beaches that are not being predicted.  Humboldt because it is not on the lake, and the\n",
    "# rest because they \n",
    "beaches_wo_predictions = list(set(lab_results['beach'].unique()) - set(predictions['beach_name'].unique()))\n",
    "beaches_wo_predictions"
   ]
  },
  {
   "cell_type": "code",
   "execution_count": 63,
   "metadata": {},
   "outputs": [
    {
     "data": {
      "text/plain": [
       "{'Juneway'}"
      ]
     },
     "execution_count": 63,
     "metadata": {},
     "output_type": "execute_result"
    }
   ],
   "source": [
    "# Juneway beach is being predicted, but not measured.  Weird, but it is small and nestled among others,\n",
    "# so let's ignore it for now\n",
    "set(predictions['beach_name'].unique()) - set(lab_results['beach'].unique())"
   ]
  },
  {
   "cell_type": "code",
   "execution_count": 64,
   "metadata": {},
   "outputs": [
    {
     "data": {
      "text/plain": [
       "beach                           object\n",
       "dna_reading_mean               float64\n",
       "dna_sample_timestamp    datetime64[ns]\n",
       "dna_test_id                      int64\n",
       "location                        object\n",
       "dtype: object"
      ]
     },
     "execution_count": 64,
     "metadata": {},
     "output_type": "execute_result"
    }
   ],
   "source": [
    "lab_results.dtypes"
   ]
  },
  {
   "cell_type": "code",
   "execution_count": 65,
   "metadata": {},
   "outputs": [
    {
     "data": {
      "text/html": [
       "<div>\n",
       "<table border=\"1\" class=\"dataframe\">\n",
       "  <thead>\n",
       "    <tr style=\"text-align: right;\">\n",
       "      <th></th>\n",
       "      <th>dna_reading_mean</th>\n",
       "      <th>dna_sample_timestamp</th>\n",
       "      <th>dna_test_id</th>\n",
       "      <th>location</th>\n",
       "      <th>date</th>\n",
       "      <th>beach_name</th>\n",
       "    </tr>\n",
       "  </thead>\n",
       "  <tbody>\n",
       "    <tr>\n",
       "      <th>0</th>\n",
       "      <td>162.628411</td>\n",
       "      <td>2017-06-23</td>\n",
       "      <td>3083</td>\n",
       "      <td>{'type': 'Point', 'coordinates': [-87.5299, 41...</td>\n",
       "      <td>2017-06-23</td>\n",
       "      <td>Calumet</td>\n",
       "    </tr>\n",
       "    <tr>\n",
       "      <th>1</th>\n",
       "      <td>538.273165</td>\n",
       "      <td>2017-06-23</td>\n",
       "      <td>3192</td>\n",
       "      <td>{'type': 'Point', 'coordinates': [-87.6545, 41...</td>\n",
       "      <td>2017-06-23</td>\n",
       "      <td>Osterman</td>\n",
       "    </tr>\n",
       "    <tr>\n",
       "      <th>2</th>\n",
       "      <td>1386.880673</td>\n",
       "      <td>2017-06-23</td>\n",
       "      <td>3190</td>\n",
       "      <td>{'type': 'Point', 'coordinates': [-87.6385, 41...</td>\n",
       "      <td>2017-06-23</td>\n",
       "      <td>Montrose</td>\n",
       "    </tr>\n",
       "    <tr>\n",
       "      <th>3</th>\n",
       "      <td>5393.683435</td>\n",
       "      <td>2017-06-23</td>\n",
       "      <td>3205</td>\n",
       "      <td>{'type': 'Point', 'coordinates': [-87.5748, 41...</td>\n",
       "      <td>2017-06-23</td>\n",
       "      <td>63rd Street</td>\n",
       "    </tr>\n",
       "    <tr>\n",
       "      <th>4</th>\n",
       "      <td>203.749847</td>\n",
       "      <td>2017-06-23</td>\n",
       "      <td>3191</td>\n",
       "      <td>{'type': 'Point', 'coordinates': [-87.6515, 41...</td>\n",
       "      <td>2017-06-23</td>\n",
       "      <td>Foster</td>\n",
       "    </tr>\n",
       "  </tbody>\n",
       "</table>\n",
       "</div>"
      ],
      "text/plain": [
       "   dna_reading_mean dna_sample_timestamp  dna_test_id  \\\n",
       "0        162.628411           2017-06-23         3083   \n",
       "1        538.273165           2017-06-23         3192   \n",
       "2       1386.880673           2017-06-23         3190   \n",
       "3       5393.683435           2017-06-23         3205   \n",
       "4        203.749847           2017-06-23         3191   \n",
       "\n",
       "                                            location        date   beach_name  \n",
       "0  {'type': 'Point', 'coordinates': [-87.5299, 41...  2017-06-23      Calumet  \n",
       "1  {'type': 'Point', 'coordinates': [-87.6545, 41...  2017-06-23     Osterman  \n",
       "2  {'type': 'Point', 'coordinates': [-87.6385, 41...  2017-06-23     Montrose  \n",
       "3  {'type': 'Point', 'coordinates': [-87.5748, 41...  2017-06-23  63rd Street  \n",
       "4  {'type': 'Point', 'coordinates': [-87.6515, 41...  2017-06-23       Foster  "
      ]
     },
     "execution_count": 65,
     "metadata": {},
     "output_type": "execute_result"
    }
   ],
   "source": [
    "lab_results['date'] = lab_results['dna_sample_timestamp'].dt.date\n",
    "lab_results['beach_name'] = lab_results['beach']\n",
    "del lab_results['beach']\n",
    "lab_results.head()"
   ]
  },
  {
   "cell_type": "code",
   "execution_count": 66,
   "metadata": {},
   "outputs": [
    {
     "data": {
      "text/html": [
       "<div>\n",
       "<table border=\"1\" class=\"dataframe\">\n",
       "  <thead>\n",
       "    <tr style=\"text-align: right;\">\n",
       "      <th></th>\n",
       "      <th>dna_reading_mean</th>\n",
       "      <th>dna_sample_timestamp</th>\n",
       "      <th>dna_test_id</th>\n",
       "      <th>location</th>\n",
       "      <th>date</th>\n",
       "      <th>beach_name</th>\n",
       "      <th>predicted_level</th>\n",
       "    </tr>\n",
       "  </thead>\n",
       "  <tbody>\n",
       "    <tr>\n",
       "      <th>0</th>\n",
       "      <td>162.628411</td>\n",
       "      <td>2017-06-23</td>\n",
       "      <td>3083</td>\n",
       "      <td>{'type': 'Point', 'coordinates': [-87.5299, 41...</td>\n",
       "      <td>2017-06-23</td>\n",
       "      <td>Calumet</td>\n",
       "      <td>NaN</td>\n",
       "    </tr>\n",
       "    <tr>\n",
       "      <th>1</th>\n",
       "      <td>538.273165</td>\n",
       "      <td>2017-06-23</td>\n",
       "      <td>3192</td>\n",
       "      <td>{'type': 'Point', 'coordinates': [-87.6545, 41...</td>\n",
       "      <td>2017-06-23</td>\n",
       "      <td>Osterman</td>\n",
       "      <td>290.3</td>\n",
       "    </tr>\n",
       "    <tr>\n",
       "      <th>2</th>\n",
       "      <td>1386.880673</td>\n",
       "      <td>2017-06-23</td>\n",
       "      <td>3190</td>\n",
       "      <td>{'type': 'Point', 'coordinates': [-87.6385, 41...</td>\n",
       "      <td>2017-06-23</td>\n",
       "      <td>Montrose</td>\n",
       "      <td>NaN</td>\n",
       "    </tr>\n",
       "    <tr>\n",
       "      <th>3</th>\n",
       "      <td>5393.683435</td>\n",
       "      <td>2017-06-23</td>\n",
       "      <td>3205</td>\n",
       "      <td>{'type': 'Point', 'coordinates': [-87.5748, 41...</td>\n",
       "      <td>2017-06-23</td>\n",
       "      <td>63rd Street</td>\n",
       "      <td>NaN</td>\n",
       "    </tr>\n",
       "    <tr>\n",
       "      <th>4</th>\n",
       "      <td>203.749847</td>\n",
       "      <td>2017-06-23</td>\n",
       "      <td>3191</td>\n",
       "      <td>{'type': 'Point', 'coordinates': [-87.6515, 41...</td>\n",
       "      <td>2017-06-23</td>\n",
       "      <td>Foster</td>\n",
       "      <td>275.0</td>\n",
       "    </tr>\n",
       "  </tbody>\n",
       "</table>\n",
       "</div>"
      ],
      "text/plain": [
       "   dna_reading_mean dna_sample_timestamp  dna_test_id  \\\n",
       "0        162.628411           2017-06-23         3083   \n",
       "1        538.273165           2017-06-23         3192   \n",
       "2       1386.880673           2017-06-23         3190   \n",
       "3       5393.683435           2017-06-23         3205   \n",
       "4        203.749847           2017-06-23         3191   \n",
       "\n",
       "                                            location        date   beach_name  \\\n",
       "0  {'type': 'Point', 'coordinates': [-87.5299, 41...  2017-06-23      Calumet   \n",
       "1  {'type': 'Point', 'coordinates': [-87.6545, 41...  2017-06-23     Osterman   \n",
       "2  {'type': 'Point', 'coordinates': [-87.6385, 41...  2017-06-23     Montrose   \n",
       "3  {'type': 'Point', 'coordinates': [-87.5748, 41...  2017-06-23  63rd Street   \n",
       "4  {'type': 'Point', 'coordinates': [-87.6515, 41...  2017-06-23       Foster   \n",
       "\n",
       "   predicted_level  \n",
       "0              NaN  \n",
       "1            290.3  \n",
       "2              NaN  \n",
       "3              NaN  \n",
       "4            275.0  "
      ]
     },
     "execution_count": 66,
     "metadata": {},
     "output_type": "execute_result"
    }
   ],
   "source": [
    "#Left joining on lab_results because we want all beaches, even the ones that aren't being predicted.\n",
    "beach_days = lab_results.merge(predictions, how='left', on=['beach_name','date'])\n",
    "beach_days.head()"
   ]
  },
  {
   "cell_type": "code",
   "execution_count": 67,
   "metadata": {},
   "outputs": [
    {
     "data": {
      "text/plain": [
       "array(['Calumet', 'Montrose', '63rd Street', 'Rainbow', 'Humboldt',\n",
       "       'South Shore'], dtype=object)"
      ]
     },
     "execution_count": 67,
     "metadata": {},
     "output_type": "execute_result"
    }
   ],
   "source": [
    "# Verify that only the six beaches with no predictions still have no predictions\n",
    "beach_days.loc[beach_days['predicted_level'].isnull()]['beach_name'].unique()"
   ]
  },
  {
   "cell_type": "code",
   "execution_count": 68,
   "metadata": {},
   "outputs": [
    {
     "data": {
      "text/html": [
       "<div>\n",
       "<table border=\"1\" class=\"dataframe\">\n",
       "  <thead>\n",
       "    <tr style=\"text-align: right;\">\n",
       "      <th></th>\n",
       "      <th>dna_reading_mean</th>\n",
       "      <th>dna_test_id</th>\n",
       "      <th>location</th>\n",
       "      <th>date</th>\n",
       "      <th>beach_name</th>\n",
       "      <th>predicted_level</th>\n",
       "    </tr>\n",
       "  </thead>\n",
       "  <tbody>\n",
       "    <tr>\n",
       "      <th>0</th>\n",
       "      <td>162.628411</td>\n",
       "      <td>3083</td>\n",
       "      <td>{'type': 'Point', 'coordinates': [-87.5299, 41...</td>\n",
       "      <td>2017-06-23</td>\n",
       "      <td>Calumet</td>\n",
       "      <td>NaN</td>\n",
       "    </tr>\n",
       "    <tr>\n",
       "      <th>1</th>\n",
       "      <td>538.273165</td>\n",
       "      <td>3192</td>\n",
       "      <td>{'type': 'Point', 'coordinates': [-87.6545, 41...</td>\n",
       "      <td>2017-06-23</td>\n",
       "      <td>Osterman</td>\n",
       "      <td>290.3</td>\n",
       "    </tr>\n",
       "    <tr>\n",
       "      <th>2</th>\n",
       "      <td>1386.880673</td>\n",
       "      <td>3190</td>\n",
       "      <td>{'type': 'Point', 'coordinates': [-87.6385, 41...</td>\n",
       "      <td>2017-06-23</td>\n",
       "      <td>Montrose</td>\n",
       "      <td>NaN</td>\n",
       "    </tr>\n",
       "    <tr>\n",
       "      <th>3</th>\n",
       "      <td>5393.683435</td>\n",
       "      <td>3205</td>\n",
       "      <td>{'type': 'Point', 'coordinates': [-87.5748, 41...</td>\n",
       "      <td>2017-06-23</td>\n",
       "      <td>63rd Street</td>\n",
       "      <td>NaN</td>\n",
       "    </tr>\n",
       "    <tr>\n",
       "      <th>4</th>\n",
       "      <td>203.749847</td>\n",
       "      <td>3191</td>\n",
       "      <td>{'type': 'Point', 'coordinates': [-87.6515, 41...</td>\n",
       "      <td>2017-06-23</td>\n",
       "      <td>Foster</td>\n",
       "      <td>275.0</td>\n",
       "    </tr>\n",
       "  </tbody>\n",
       "</table>\n",
       "</div>"
      ],
      "text/plain": [
       "   dna_reading_mean  dna_test_id  \\\n",
       "0        162.628411         3083   \n",
       "1        538.273165         3192   \n",
       "2       1386.880673         3190   \n",
       "3       5393.683435         3205   \n",
       "4        203.749847         3191   \n",
       "\n",
       "                                            location        date   beach_name  \\\n",
       "0  {'type': 'Point', 'coordinates': [-87.5299, 41...  2017-06-23      Calumet   \n",
       "1  {'type': 'Point', 'coordinates': [-87.6545, 41...  2017-06-23     Osterman   \n",
       "2  {'type': 'Point', 'coordinates': [-87.6385, 41...  2017-06-23     Montrose   \n",
       "3  {'type': 'Point', 'coordinates': [-87.5748, 41...  2017-06-23  63rd Street   \n",
       "4  {'type': 'Point', 'coordinates': [-87.6515, 41...  2017-06-23       Foster   \n",
       "\n",
       "   predicted_level  \n",
       "0              NaN  \n",
       "1            290.3  \n",
       "2              NaN  \n",
       "3              NaN  \n",
       "4            275.0  "
      ]
     },
     "execution_count": 68,
     "metadata": {},
     "output_type": "execute_result"
    }
   ],
   "source": [
    "del beach_days['dna_sample_timestamp']\n",
    "beach_days.head()"
   ]
  },
  {
   "cell_type": "code",
   "execution_count": 69,
   "metadata": {},
   "outputs": [
    {
     "name": "stdout",
     "output_type": "stream",
     "text": [
      "There are 20 beaches\n"
     ]
    }
   ],
   "source": [
    "print(\"There are %s beaches\" % str(len(beach_days['beach_name'].unique())))"
   ]
  },
  {
   "cell_type": "code",
   "execution_count": null,
   "metadata": {
    "collapsed": true
   },
   "outputs": [],
   "source": []
  }
 ],
 "metadata": {
  "kernelspec": {
   "display_name": "Python 3",
   "language": "python",
   "name": "python3"
  },
  "language_info": {
   "codemirror_mode": {
    "name": "ipython",
    "version": 3
   },
   "file_extension": ".py",
   "mimetype": "text/x-python",
   "name": "python",
   "nbconvert_exporter": "python",
   "pygments_lexer": "ipython3",
   "version": "3.6.0"
  }
 },
 "nbformat": 4,
 "nbformat_minor": 2
}
