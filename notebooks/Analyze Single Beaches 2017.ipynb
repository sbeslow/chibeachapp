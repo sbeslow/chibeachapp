{
 "cells": [
  {
   "cell_type": "code",
   "execution_count": 34,
   "metadata": {},
   "outputs": [],
   "source": [
    "import pandas as pd\n",
    "from datetime import datetime, timedelta\n",
    "import matplotlib.pyplot as plt\n",
    "import numpy as np\n",
    "%matplotlib notebook"
   ]
  },
  {
   "cell_type": "code",
   "execution_count": 35,
   "metadata": {
    "scrolled": false
   },
   "outputs": [
    {
     "name": "stdout",
     "output_type": "stream",
     "text": [
      "Deleting columns: \n",
      "There are 20 beaches\n"
     ]
    },
    {
     "data": {
      "text/html": [
       "<div>\n",
       "<table border=\"1\" class=\"dataframe\">\n",
       "  <thead>\n",
       "    <tr style=\"text-align: right;\">\n",
       "      <th></th>\n",
       "      <th>dna_reading_mean</th>\n",
       "      <th>dna_test_id</th>\n",
       "      <th>location</th>\n",
       "      <th>date</th>\n",
       "      <th>beach_name</th>\n",
       "      <th>predicted_level</th>\n",
       "    </tr>\n",
       "  </thead>\n",
       "  <tbody>\n",
       "    <tr>\n",
       "      <th>0</th>\n",
       "      <td>162.628411</td>\n",
       "      <td>3083</td>\n",
       "      <td>{'type': 'Point', 'coordinates': [-87.5299, 41...</td>\n",
       "      <td>2017-06-23</td>\n",
       "      <td>Calumet</td>\n",
       "      <td>NaN</td>\n",
       "    </tr>\n",
       "    <tr>\n",
       "      <th>1</th>\n",
       "      <td>538.273165</td>\n",
       "      <td>3192</td>\n",
       "      <td>{'type': 'Point', 'coordinates': [-87.6545, 41...</td>\n",
       "      <td>2017-06-23</td>\n",
       "      <td>Osterman</td>\n",
       "      <td>290.3</td>\n",
       "    </tr>\n",
       "    <tr>\n",
       "      <th>2</th>\n",
       "      <td>1386.880673</td>\n",
       "      <td>3190</td>\n",
       "      <td>{'type': 'Point', 'coordinates': [-87.6385, 41...</td>\n",
       "      <td>2017-06-23</td>\n",
       "      <td>Montrose</td>\n",
       "      <td>NaN</td>\n",
       "    </tr>\n",
       "    <tr>\n",
       "      <th>3</th>\n",
       "      <td>5393.683435</td>\n",
       "      <td>3205</td>\n",
       "      <td>{'type': 'Point', 'coordinates': [-87.5748, 41...</td>\n",
       "      <td>2017-06-23</td>\n",
       "      <td>63rd Street</td>\n",
       "      <td>NaN</td>\n",
       "    </tr>\n",
       "    <tr>\n",
       "      <th>4</th>\n",
       "      <td>203.749847</td>\n",
       "      <td>3191</td>\n",
       "      <td>{'type': 'Point', 'coordinates': [-87.6515, 41...</td>\n",
       "      <td>2017-06-23</td>\n",
       "      <td>Foster</td>\n",
       "      <td>275.0</td>\n",
       "    </tr>\n",
       "  </tbody>\n",
       "</table>\n",
       "</div>"
      ],
      "text/plain": [
       "   dna_reading_mean  dna_test_id  \\\n",
       "0        162.628411         3083   \n",
       "1        538.273165         3192   \n",
       "2       1386.880673         3190   \n",
       "3       5393.683435         3205   \n",
       "4        203.749847         3191   \n",
       "\n",
       "                                            location        date   beach_name  \\\n",
       "0  {'type': 'Point', 'coordinates': [-87.5299, 41...  2017-06-23      Calumet   \n",
       "1  {'type': 'Point', 'coordinates': [-87.6545, 41...  2017-06-23     Osterman   \n",
       "2  {'type': 'Point', 'coordinates': [-87.6385, 41...  2017-06-23     Montrose   \n",
       "3  {'type': 'Point', 'coordinates': [-87.5748, 41...  2017-06-23  63rd Street   \n",
       "4  {'type': 'Point', 'coordinates': [-87.6515, 41...  2017-06-23       Foster   \n",
       "\n",
       "   predicted_level  \n",
       "0              NaN  \n",
       "1            290.3  \n",
       "2              NaN  \n",
       "3              NaN  \n",
       "4            275.0  "
      ]
     },
     "execution_count": 35,
     "metadata": {},
     "output_type": "execute_result"
    }
   ],
   "source": [
    "# Get the latest data from the Chicago data portal right now\n",
    "%run \"Get beach_days from API.ipynb\"\n",
    "beach_days.head()"
   ]
  },
  {
   "cell_type": "code",
   "execution_count": 36,
   "metadata": {},
   "outputs": [
    {
     "data": {
      "text/plain": [
       "['Calumet', 'Montrose', '63rd Street', 'Rainbow', 'Humboldt', 'South Shore']"
      ]
     },
     "execution_count": 36,
     "metadata": {},
     "output_type": "execute_result"
    }
   ],
   "source": [
    "# Reminder that there are some beaches that don't have predictions\n",
    "list(beach_days.loc[beach_days['predicted_level'].isnull()]['beach_name'].unique())"
   ]
  },
  {
   "cell_type": "code",
   "execution_count": 37,
   "metadata": {},
   "outputs": [
    {
     "name": "stdout",
     "output_type": "stream",
     "text": [
      "Available beaches: Calumet, Osterman, Montrose, 63rd Street, Foster, Rainbow, Marion Mahony Griffin (Jarvis), Humboldt, Rogers, 12th Street, Oak Street, South Shore, Margaret T Burroughs (31st), Howard, Leone, Oakwood, North Avenue, 57th Street, Hartigan (Albion), Ohio Street\n",
      "Analyzing Margaret T Burroughs (31st)\n"
     ]
    }
   ],
   "source": [
    "# Pick a beach to analyze\n",
    "print(\"Available beaches: \" + ', '.join(beach_days['beach_name'].unique()))\n",
    "selected_beach_name = 'Margaret T Burroughs (31st)'\n",
    "print(\"Analyzing \" + selected_beach_name)"
   ]
  },
  {
   "cell_type": "code",
   "execution_count": 38,
   "metadata": {},
   "outputs": [
    {
     "data": {
      "text/html": [
       "<div>\n",
       "<table border=\"1\" class=\"dataframe\">\n",
       "  <thead>\n",
       "    <tr style=\"text-align: right;\">\n",
       "      <th></th>\n",
       "      <th>dna_reading_mean</th>\n",
       "      <th>dna_test_id</th>\n",
       "      <th>location</th>\n",
       "      <th>date</th>\n",
       "      <th>beach_name</th>\n",
       "      <th>predicted_level</th>\n",
       "    </tr>\n",
       "  </thead>\n",
       "  <tbody>\n",
       "    <tr>\n",
       "      <th>12</th>\n",
       "      <td>988.658182</td>\n",
       "      <td>3207</td>\n",
       "      <td>{'type': 'Point', 'coordinates': [-87.6072, 41...</td>\n",
       "      <td>2017-06-23</td>\n",
       "      <td>Margaret T Burroughs (31st)</td>\n",
       "      <td>330.4</td>\n",
       "    </tr>\n",
       "    <tr>\n",
       "      <th>21</th>\n",
       "      <td>283.971830</td>\n",
       "      <td>3119</td>\n",
       "      <td>{'type': 'Point', 'coordinates': [-87.6072, 41...</td>\n",
       "      <td>2017-06-22</td>\n",
       "      <td>Margaret T Burroughs (31st)</td>\n",
       "      <td>65.0</td>\n",
       "    </tr>\n",
       "    <tr>\n",
       "      <th>53</th>\n",
       "      <td>1732.965089</td>\n",
       "      <td>3069</td>\n",
       "      <td>{'type': 'Point', 'coordinates': [-87.6072, 41...</td>\n",
       "      <td>2017-06-21</td>\n",
       "      <td>Margaret T Burroughs (31st)</td>\n",
       "      <td>246.2</td>\n",
       "    </tr>\n",
       "    <tr>\n",
       "      <th>74</th>\n",
       "      <td>35.213634</td>\n",
       "      <td>3066</td>\n",
       "      <td>{'type': 'Point', 'coordinates': [-87.6072, 41...</td>\n",
       "      <td>2017-06-20</td>\n",
       "      <td>Margaret T Burroughs (31st)</td>\n",
       "      <td>462.7</td>\n",
       "    </tr>\n",
       "    <tr>\n",
       "      <th>87</th>\n",
       "      <td>334.200539</td>\n",
       "      <td>3051</td>\n",
       "      <td>{'type': 'Point', 'coordinates': [-87.6072, 41...</td>\n",
       "      <td>2017-06-19</td>\n",
       "      <td>Margaret T Burroughs (31st)</td>\n",
       "      <td>364.1</td>\n",
       "    </tr>\n",
       "  </tbody>\n",
       "</table>\n",
       "</div>"
      ],
      "text/plain": [
       "    dna_reading_mean  dna_test_id  \\\n",
       "12        988.658182         3207   \n",
       "21        283.971830         3119   \n",
       "53       1732.965089         3069   \n",
       "74         35.213634         3066   \n",
       "87        334.200539         3051   \n",
       "\n",
       "                                             location        date  \\\n",
       "12  {'type': 'Point', 'coordinates': [-87.6072, 41...  2017-06-23   \n",
       "21  {'type': 'Point', 'coordinates': [-87.6072, 41...  2017-06-22   \n",
       "53  {'type': 'Point', 'coordinates': [-87.6072, 41...  2017-06-21   \n",
       "74  {'type': 'Point', 'coordinates': [-87.6072, 41...  2017-06-20   \n",
       "87  {'type': 'Point', 'coordinates': [-87.6072, 41...  2017-06-19   \n",
       "\n",
       "                     beach_name  predicted_level  \n",
       "12  Margaret T Burroughs (31st)            330.4  \n",
       "21  Margaret T Burroughs (31st)             65.0  \n",
       "53  Margaret T Burroughs (31st)            246.2  \n",
       "74  Margaret T Burroughs (31st)            462.7  \n",
       "87  Margaret T Burroughs (31st)            364.1  "
      ]
     },
     "execution_count": 38,
     "metadata": {},
     "output_type": "execute_result"
    }
   ],
   "source": [
    "beach = beach_days.loc[beach_days['beach_name'] == selected_beach_name]\n",
    "beach.head()"
   ]
  },
  {
   "cell_type": "code",
   "execution_count": 39,
   "metadata": {},
   "outputs": [
    {
     "data": {
      "text/html": [
       "<div>\n",
       "<table border=\"1\" class=\"dataframe\">\n",
       "  <thead>\n",
       "    <tr style=\"text-align: right;\">\n",
       "      <th></th>\n",
       "      <th>date</th>\n",
       "      <th>dna_reading_mean</th>\n",
       "      <th>dna_test_id</th>\n",
       "      <th>location</th>\n",
       "      <th>beach_name</th>\n",
       "      <th>predicted_level</th>\n",
       "    </tr>\n",
       "  </thead>\n",
       "  <tbody>\n",
       "    <tr>\n",
       "      <th>0</th>\n",
       "      <td>2017-05-26</td>\n",
       "      <td>11.489125</td>\n",
       "      <td>2307.0</td>\n",
       "      <td>{'type': 'Point', 'coordinates': [-87.6072, 41...</td>\n",
       "      <td>Margaret T Burroughs (31st)</td>\n",
       "      <td>184.6</td>\n",
       "    </tr>\n",
       "    <tr>\n",
       "      <th>1</th>\n",
       "      <td>2017-05-26</td>\n",
       "      <td>11.489125</td>\n",
       "      <td>2307.0</td>\n",
       "      <td>{'type': 'Point', 'coordinates': [-87.6072, 41...</td>\n",
       "      <td>Margaret T Burroughs (31st)</td>\n",
       "      <td>184.6</td>\n",
       "    </tr>\n",
       "    <tr>\n",
       "      <th>2</th>\n",
       "      <td>2017-05-27</td>\n",
       "      <td>NaN</td>\n",
       "      <td>NaN</td>\n",
       "      <td>NaN</td>\n",
       "      <td>NaN</td>\n",
       "      <td>NaN</td>\n",
       "    </tr>\n",
       "    <tr>\n",
       "      <th>3</th>\n",
       "      <td>2017-05-28</td>\n",
       "      <td>68.161573</td>\n",
       "      <td>2330.0</td>\n",
       "      <td>{'type': 'Point', 'coordinates': [-87.6072, 41...</td>\n",
       "      <td>Margaret T Burroughs (31st)</td>\n",
       "      <td>96.6</td>\n",
       "    </tr>\n",
       "    <tr>\n",
       "      <th>4</th>\n",
       "      <td>2017-05-29</td>\n",
       "      <td>129.011627</td>\n",
       "      <td>2339.0</td>\n",
       "      <td>{'type': 'Point', 'coordinates': [-87.6072, 41...</td>\n",
       "      <td>Margaret T Burroughs (31st)</td>\n",
       "      <td>197.7</td>\n",
       "    </tr>\n",
       "  </tbody>\n",
       "</table>\n",
       "</div>"
      ],
      "text/plain": [
       "         date  dna_reading_mean  dna_test_id  \\\n",
       "0  2017-05-26         11.489125       2307.0   \n",
       "1  2017-05-26         11.489125       2307.0   \n",
       "2  2017-05-27               NaN          NaN   \n",
       "3  2017-05-28         68.161573       2330.0   \n",
       "4  2017-05-29        129.011627       2339.0   \n",
       "\n",
       "                                            location  \\\n",
       "0  {'type': 'Point', 'coordinates': [-87.6072, 41...   \n",
       "1  {'type': 'Point', 'coordinates': [-87.6072, 41...   \n",
       "2                                                NaN   \n",
       "3  {'type': 'Point', 'coordinates': [-87.6072, 41...   \n",
       "4  {'type': 'Point', 'coordinates': [-87.6072, 41...   \n",
       "\n",
       "                    beach_name  predicted_level  \n",
       "0  Margaret T Burroughs (31st)            184.6  \n",
       "1  Margaret T Burroughs (31st)            184.6  \n",
       "2                          NaN              NaN  \n",
       "3  Margaret T Burroughs (31st)             96.6  \n",
       "4  Margaret T Burroughs (31st)            197.7  "
      ]
     },
     "execution_count": 39,
     "metadata": {},
     "output_type": "execute_result"
    }
   ],
   "source": [
    "first_day = beach_days.sort_values('date', ascending=True).iloc[0]['date']\n",
    "today = datetime.now().date()\n",
    "delta = today - first_day\n",
    "dates = pd.DataFrame([(first_day + timedelta(days=i)) for i in range(delta.days + 1)])\n",
    "dates.columns = ['date']\n",
    "beach_by_day = dates.merge(beach, how='left', on='date')\n",
    "beach_by_day.head()"
   ]
  },
  {
   "cell_type": "code",
   "execution_count": 41,
   "metadata": {},
   "outputs": [
    {
     "data": {
      "text/plain": [
       "<matplotlib.axes._subplots.AxesSubplot at 0x10d873e10>"
      ]
     },
     "execution_count": 41,
     "metadata": {},
     "output_type": "execute_result"
    },
    {
     "data": {
      "image/png": "[encoded data removed]",
      "text/plain": [
       "<matplotlib.figure.Figure at 0x10d6f3b38>"
      ]
     },
     "metadata": {},
     "output_type": "display_data"
    }
   ],
   "source": [
    "beach_by_day.set_index('date')['dna_reading_mean'].plot(kind=\"line\")"
   ]
  },
  {
   "cell_type": "code",
   "execution_count": null,
   "metadata": {
    "collapsed": true
   },
   "outputs": [],
   "source": []
  },
  {
   "cell_type": "code",
   "execution_count": 53,
   "metadata": {},
   "outputs": [
    {
     "name": "stdout",
     "output_type": "stream",
     "text": [
      "Samples were taken across 29 days\n"
     ]
    }
   ],
   "source": [
    "# How many days of samples were taken\n",
    "print(\"Samples were taken across %s days\" % len(beach_days['date'].unique()))"
   ]
  },
  {
   "cell_type": "code",
   "execution_count": 23,
   "metadata": {},
   "outputs": [
    {
     "name": "stdout",
     "output_type": "stream",
     "text": [
      "There are 573 total beach-days, and 399 unique predictions\n"
     ]
    }
   ],
   "source": [
    "print(\"There are %s total beach-days, and %s unique predictions\" %\n",
    "     (str(len(beach_days)), str(len(beach_days.loc[~beach_days['predicted_level'].isnull()]))))"
   ]
  },
  {
   "cell_type": "code",
   "execution_count": 35,
   "metadata": {},
   "outputs": [
    {
     "name": "stdout",
     "output_type": "stream",
     "text": [
      "There were 0 samples predicted above the threshold, and 41 that actually were\n"
     ]
    }
   ],
   "source": [
    "print(\"There were %s samples predicted above the threshold, and %s that actually were\" %\n",
    "     (str(len(beach_days.loc[beach_days['predicted_level'] > 1000])),\n",
    "      str(len(beach_days.loc[beach_days['dna_reading_mean'] > 1000]))))"
   ]
  },
  {
   "cell_type": "code",
   "execution_count": 36,
   "metadata": {},
   "outputs": [
    {
     "data": {
      "text/plain": [
       "<matplotlib.axes._subplots.AxesSubplot at 0x108414668>"
      ]
     },
     "execution_count": 36,
     "metadata": {},
     "output_type": "execute_result"
    },
    {
     "data": {
      "image/png": "[encoded data removed]",
      "text/plain": [
       "<matplotlib.figure.Figure at 0x107fa5048>"
      ]
     },
     "metadata": {},
     "output_type": "display_data"
    }
   ],
   "source": [
    "# For the DNA testing, the threshold for an advisory is 1000 CFU.  How many beaches exceed that?\n",
    "beach_days.loc[beach_days['dna_reading_mean'] >= 1000].groupby('beach_name').count()['date']\\\n",
    "    .sort_values(ascending=False).plot(kind=\"bar\", title=\"Samples above 1000 cfu\")"
   ]
  },
  {
   "cell_type": "code",
   "execution_count": 31,
   "metadata": {},
   "outputs": [
    {
     "data": {
      "text/plain": [
       "<matplotlib.text.Text at 0x108307ac8>"
      ]
     },
     "execution_count": 31,
     "metadata": {},
     "output_type": "execute_result"
    },
    {
     "data": {
      "image/png": "[encoded data removed]",
      "text/plain": [
       "<matplotlib.figure.Figure at 0x106b59cf8>"
      ]
     },
     "metadata": {},
     "output_type": "display_data"
    }
   ],
   "source": [
    "beach_days.loc[beach_days['dna_reading_mean'] >= 1000].groupby('date').count()['location']\\\n",
    "    .plot(kind=\"bar\", title=\"Days with samples above 1000 cfu\").set_ylabel(\"Numbrt of samples exceeding threshold\")"
   ]
  },
  {
   "cell_type": "code",
   "execution_count": 52,
   "metadata": {},
   "outputs": [
    {
     "data": {
      "text/plain": [
       "<matplotlib.axes._subplots.AxesSubplot at 0x108a94f28>"
      ]
     },
     "execution_count": 52,
     "metadata": {},
     "output_type": "execute_result"
    },
    {
     "data": {
      "image/png": "[encoded data removed]",
      "text/plain": [
       "<matplotlib.figure.Figure at 0x108b109e8>"
      ]
     },
     "metadata": {},
     "output_type": "display_data"
    }
   ],
   "source": [
    "# Samples that exceed threshold\n",
    "beach_days['dna_exceeds'] = beach_days['dna_reading_mean'] > 1000\n",
    "beach_days.groupby('dna_exceeds').count()['date'].plot(kind=\"pie\", title=\"Percent of samples taken that exceed 1000 cfu\", autopct='%1.1f%%')"
   ]
  }
 ],
 "metadata": {
  "kernelspec": {
   "display_name": "Python 3",
   "language": "python",
   "name": "python3"
  },
  "language_info": {
   "codemirror_mode": {
    "name": "ipython",
    "version": 3
   },
   "file_extension": ".py",
   "mimetype": "text/x-python",
   "name": "python",
   "nbconvert_exporter": "python",
   "pygments_lexer": "ipython3",
   "version": "3.6.1"
  }
 },
 "nbformat": 4,
 "nbformat_minor": 2
}
