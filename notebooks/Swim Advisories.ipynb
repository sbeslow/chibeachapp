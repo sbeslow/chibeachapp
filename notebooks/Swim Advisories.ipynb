{
 "cells": [
  {
   "cell_type": "code",
   "execution_count": 1,
   "metadata": {
    "collapsed": true
   },
   "outputs": [],
   "source": [
    "import pandas as pd\n",
    "import matplotlib as plt\n",
    "%matplotlib inline"
   ]
  },
  {
   "cell_type": "code",
   "execution_count": 7,
   "metadata": {
    "scrolled": true
   },
   "outputs": [
    {
     "data": {
      "text/html": [
       "<div>\n",
       "<table border=\"1\" class=\"dataframe\">\n",
       "  <thead>\n",
       "    <tr style=\"text-align: right;\">\n",
       "      <th></th>\n",
       "      <th>Beach Name</th>\n",
       "      <th>Date</th>\n",
       "      <th>Predicted Level</th>\n",
       "      <th>Probability</th>\n",
       "      <th>Swim Advisory</th>\n",
       "      <th>RecordID</th>\n",
       "    </tr>\n",
       "  </thead>\n",
       "  <tbody>\n",
       "    <tr>\n",
       "      <th>0</th>\n",
       "      <td>Calumet</td>\n",
       "      <td>06/04/2016</td>\n",
       "      <td>33.8</td>\n",
       "      <td>0.107</td>\n",
       "      <td>N</td>\n",
       "      <td>Calumet20160604</td>\n",
       "    </tr>\n",
       "    <tr>\n",
       "      <th>1</th>\n",
       "      <td>63rdStreet</td>\n",
       "      <td>06/04/2016</td>\n",
       "      <td>33.6</td>\n",
       "      <td>0.106</td>\n",
       "      <td>N</td>\n",
       "      <td>63rdStreet20160604</td>\n",
       "    </tr>\n",
       "    <tr>\n",
       "      <th>2</th>\n",
       "      <td>OakStreet</td>\n",
       "      <td>06/04/2016</td>\n",
       "      <td>18.9</td>\n",
       "      <td>0.018</td>\n",
       "      <td>N</td>\n",
       "      <td>OakStreet20160604</td>\n",
       "    </tr>\n",
       "    <tr>\n",
       "      <th>3</th>\n",
       "      <td>Foster</td>\n",
       "      <td>06/04/2016</td>\n",
       "      <td>14.9</td>\n",
       "      <td>0.021</td>\n",
       "      <td>N</td>\n",
       "      <td>Foster20160604</td>\n",
       "    </tr>\n",
       "    <tr>\n",
       "      <th>4</th>\n",
       "      <td>Montrose</td>\n",
       "      <td>06/04/2016</td>\n",
       "      <td>101.5</td>\n",
       "      <td>0.277</td>\n",
       "      <td>N</td>\n",
       "      <td>Montrose20160604</td>\n",
       "    </tr>\n",
       "  </tbody>\n",
       "</table>\n",
       "</div>"
      ],
      "text/plain": [
       "   Beach Name        Date  Predicted Level  Probability Swim Advisory  \\\n",
       "0     Calumet  06/04/2016             33.8        0.107             N   \n",
       "1  63rdStreet  06/04/2016             33.6        0.106             N   \n",
       "2   OakStreet  06/04/2016             18.9        0.018             N   \n",
       "3      Foster  06/04/2016             14.9        0.021             N   \n",
       "4    Montrose  06/04/2016            101.5        0.277             N   \n",
       "\n",
       "             RecordID  \n",
       "0     Calumet20160604  \n",
       "1  63rdStreet20160604  \n",
       "2   OakStreet20160604  \n",
       "3      Foster20160604  \n",
       "4    Montrose20160604  "
      ]
     },
     "execution_count": 7,
     "metadata": {},
     "output_type": "execute_result"
    }
   ],
   "source": [
    "advisory_records = pd.read_csv('data/Beach_Swim_Advisories.csv')\n",
    "advisory_records.head()"
   ]
  },
  {
   "cell_type": "code",
   "execution_count": 9,
   "metadata": {},
   "outputs": [
    {
     "data": {
      "text/html": [
       "<div>\n",
       "<table border=\"1\" class=\"dataframe\">\n",
       "  <thead>\n",
       "    <tr style=\"text-align: right;\">\n",
       "      <th></th>\n",
       "      <th>Beach Name</th>\n",
       "      <th>Date</th>\n",
       "      <th>Predicted Level</th>\n",
       "      <th>Probability</th>\n",
       "      <th>Swim Advisory</th>\n",
       "      <th>RecordID</th>\n",
       "    </tr>\n",
       "  </thead>\n",
       "  <tbody>\n",
       "    <tr>\n",
       "      <th>49</th>\n",
       "      <td>Montrose</td>\n",
       "      <td>06/10/2016</td>\n",
       "      <td>423.7</td>\n",
       "      <td>0.661</td>\n",
       "      <td>Y</td>\n",
       "      <td>Montrose20160610</td>\n",
       "    </tr>\n",
       "    <tr>\n",
       "      <th>85</th>\n",
       "      <td>Montrose</td>\n",
       "      <td>06/15/2016</td>\n",
       "      <td>254.7</td>\n",
       "      <td>0.523</td>\n",
       "      <td>Y</td>\n",
       "      <td>Montrose20160615</td>\n",
       "    </tr>\n",
       "    <tr>\n",
       "      <th>157</th>\n",
       "      <td>Montrose</td>\n",
       "      <td>06/23/2016</td>\n",
       "      <td>740.9</td>\n",
       "      <td>0.791</td>\n",
       "      <td>Y</td>\n",
       "      <td>Montrose20160623</td>\n",
       "    </tr>\n",
       "    <tr>\n",
       "      <th>158</th>\n",
       "      <td>Osterman</td>\n",
       "      <td>06/23/2016</td>\n",
       "      <td>284.3</td>\n",
       "      <td>0.558</td>\n",
       "      <td>Y</td>\n",
       "      <td>Osterman20160623</td>\n",
       "    </tr>\n",
       "    <tr>\n",
       "      <th>181</th>\n",
       "      <td>63rdStreet</td>\n",
       "      <td>06/26/2016</td>\n",
       "      <td>380.3</td>\n",
       "      <td>0.621</td>\n",
       "      <td>Y</td>\n",
       "      <td>63rdStreet20160626</td>\n",
       "    </tr>\n",
       "  </tbody>\n",
       "</table>\n",
       "</div>"
      ],
      "text/plain": [
       "     Beach Name        Date  Predicted Level  Probability Swim Advisory  \\\n",
       "49     Montrose  06/10/2016            423.7        0.661             Y   \n",
       "85     Montrose  06/15/2016            254.7        0.523             Y   \n",
       "157    Montrose  06/23/2016            740.9        0.791             Y   \n",
       "158    Osterman  06/23/2016            284.3        0.558             Y   \n",
       "181  63rdStreet  06/26/2016            380.3        0.621             Y   \n",
       "\n",
       "               RecordID  \n",
       "49     Montrose20160610  \n",
       "85     Montrose20160615  \n",
       "157    Montrose20160623  \n",
       "158    Osterman20160623  \n",
       "181  63rdStreet20160626  "
      ]
     },
     "execution_count": 9,
     "metadata": {},
     "output_type": "execute_result"
    }
   ],
   "source": [
    "beach_advisories = advisory_records.loc[advisory_records['Swim Advisory'] == 'Y']\n",
    "beach_advisories.head()"
   ]
  },
  {
   "cell_type": "code",
   "execution_count": 10,
   "metadata": {},
   "outputs": [
    {
     "name": "stdout",
     "output_type": "stream",
     "text": [
      "There were 44 swim advisories in 2016\n"
     ]
    }
   ],
   "source": [
    "print(\"There were %s swim advisories in 2016\" % len(beach_advisories))"
   ]
  },
  {
   "cell_type": "code",
   "execution_count": 17,
   "metadata": {},
   "outputs": [
    {
     "data": {
      "text/plain": [
       "Beach Name\n",
       "Montrose      18\n",
       "Osterman       8\n",
       "Calumet        6\n",
       "63rdStreet     5\n",
       "Rainbow        4\n",
       "Foster         2\n",
       "Leone          1\n",
       "Name: Predicted Level, dtype: int64"
      ]
     },
     "execution_count": 17,
     "metadata": {},
     "output_type": "execute_result"
    }
   ],
   "source": [
    "# Number of swim advisories per beach, 2016\n",
    "beach_advisories.groupby('Beach Name').count()['Predicted Level'].sort_values(ascending=False)"
   ]
  },
  {
   "cell_type": "code",
   "execution_count": 18,
   "metadata": {},
   "outputs": [
    {
     "data": {
      "text/plain": [
       "Beach Name\n",
       "Rainbow       108\n",
       "Osterman      108\n",
       "Ohio          108\n",
       "OakStreet     108\n",
       "Montrose      108\n",
       "Leone         108\n",
       "Foster        108\n",
       "Calumet       108\n",
       "63rdStreet    108\n",
       "Name: Predicted Level, dtype: int64"
      ]
     },
     "execution_count": 18,
     "metadata": {},
     "output_type": "execute_result"
    }
   ],
   "source": [
    "# All the beaches in the dataset, including those with only NO ADVISORIES\n",
    "advisory_records.groupby('Beach Name').count()['Predicted Level'].sort_values(ascending=False)"
   ]
  },
  {
   "cell_type": "code",
   "execution_count": null,
   "metadata": {
    "collapsed": true
   },
   "outputs": [],
   "source": []
  }
 ],
 "metadata": {
  "kernelspec": {
   "display_name": "Python 3",
   "language": "python",
   "name": "python3"
  },
  "language_info": {
   "codemirror_mode": {
    "name": "ipython",
    "version": 3
   },
   "file_extension": ".py",
   "mimetype": "text/x-python",
   "name": "python",
   "nbconvert_exporter": "python",
   "pygments_lexer": "ipython3",
   "version": "3.6.0"
  }
 },
 "nbformat": 4,
 "nbformat_minor": 2
}
