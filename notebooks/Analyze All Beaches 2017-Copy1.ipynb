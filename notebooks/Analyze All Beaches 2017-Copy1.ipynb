{
 "cells": [
  {
   "cell_type": "code",
   "execution_count": 1,
   "metadata": {},
   "outputs": [
    {
     "name": "stdout",
     "output_type": "stream",
     "text": [
      "This is as of 2017-08-07 20:25:30.062688\n"
     ]
    }
   ],
   "source": [
    "import pandas as pd\n",
    "from datetime import datetime\n",
    "import matplotlib.pyplot as plt\n",
    "import numpy as np\n",
    "%matplotlib inline\n",
    "\n",
    "print(\"This is as of \" + str(datetime.now()))"
   ]
  },
  {
   "cell_type": "code",
   "execution_count": 2,
   "metadata": {
    "scrolled": false
   },
   "outputs": [
    {
     "name": "stdout",
     "output_type": "stream",
     "text": [
      "Deleting columns: \n",
      "WARNING: Maxed out predictions from API - need pagination\n",
      "There are 20 beaches\n"
     ]
    },
    {
     "data": {
      "text/html": [
       "<div>\n",
       "<table border=\"1\" class=\"dataframe\">\n",
       "  <thead>\n",
       "    <tr style=\"text-align: right;\">\n",
       "      <th></th>\n",
       "      <th>dna_reading_mean</th>\n",
       "      <th>dna_test_id</th>\n",
       "      <th>location</th>\n",
       "      <th>date</th>\n",
       "      <th>beach_name</th>\n",
       "      <th>predicted_level</th>\n",
       "    </tr>\n",
       "  </thead>\n",
       "  <tbody>\n",
       "    <tr>\n",
       "      <th>0</th>\n",
       "      <td>44.698993</td>\n",
       "      <td>4836</td>\n",
       "      <td>{'type': 'Point', 'coordinates': [-87.5299, 41...</td>\n",
       "      <td>2017-08-07</td>\n",
       "      <td>Calumet</td>\n",
       "      <td>NaN</td>\n",
       "    </tr>\n",
       "    <tr>\n",
       "      <th>1</th>\n",
       "      <td>945.461792</td>\n",
       "      <td>4837</td>\n",
       "      <td>{'type': 'Point', 'coordinates': [-87.5636, 41...</td>\n",
       "      <td>2017-08-07</td>\n",
       "      <td>South Shore</td>\n",
       "      <td>NaN</td>\n",
       "    </tr>\n",
       "    <tr>\n",
       "      <th>2</th>\n",
       "      <td>192.686274</td>\n",
       "      <td>4844</td>\n",
       "      <td>{'type': 'Point', 'coordinates': [-87.6663, 42...</td>\n",
       "      <td>2017-08-07</td>\n",
       "      <td>Howard</td>\n",
       "      <td>NaN</td>\n",
       "    </tr>\n",
       "    <tr>\n",
       "      <th>3</th>\n",
       "      <td>176.414285</td>\n",
       "      <td>4841</td>\n",
       "      <td>{'type': 'Point', 'coordinates': [-87.6385, 41...</td>\n",
       "      <td>2017-08-07</td>\n",
       "      <td>Montrose</td>\n",
       "      <td>NaN</td>\n",
       "    </tr>\n",
       "    <tr>\n",
       "      <th>4</th>\n",
       "      <td>212.915476</td>\n",
       "      <td>4839</td>\n",
       "      <td>{'type': 'Point', 'coordinates': [-87.6152, 41...</td>\n",
       "      <td>2017-08-07</td>\n",
       "      <td>Ohio Street</td>\n",
       "      <td>NaN</td>\n",
       "    </tr>\n",
       "  </tbody>\n",
       "</table>\n",
       "</div>"
      ],
      "text/plain": [
       "   dna_reading_mean  dna_test_id  \\\n",
       "0         44.698993         4836   \n",
       "1        945.461792         4837   \n",
       "2        192.686274         4844   \n",
       "3        176.414285         4841   \n",
       "4        212.915476         4839   \n",
       "\n",
       "                                            location        date   beach_name  \\\n",
       "0  {'type': 'Point', 'coordinates': [-87.5299, 41...  2017-08-07      Calumet   \n",
       "1  {'type': 'Point', 'coordinates': [-87.5636, 41...  2017-08-07  South Shore   \n",
       "2  {'type': 'Point', 'coordinates': [-87.6663, 42...  2017-08-07       Howard   \n",
       "3  {'type': 'Point', 'coordinates': [-87.6385, 41...  2017-08-07     Montrose   \n",
       "4  {'type': 'Point', 'coordinates': [-87.6152, 41...  2017-08-07  Ohio Street   \n",
       "\n",
       "   predicted_level  \n",
       "0              NaN  \n",
       "1              NaN  \n",
       "2              NaN  \n",
       "3              NaN  \n",
       "4              NaN  "
      ]
     },
     "execution_count": 2,
     "metadata": {},
     "output_type": "execute_result"
    }
   ],
   "source": [
    "# Get the latest data from the Chicago data portal right now\n",
    "%run \"Get beach_days from API.ipynb\"\n",
    "beach_days.head()"
   ]
  },
  {
   "cell_type": "code",
   "execution_count": 3,
   "metadata": {},
   "outputs": [
    {
     "name": "stdout",
     "output_type": "stream",
     "text": [
      "Samples were taken across 74 days\n"
     ]
    }
   ],
   "source": [
    "# How many days of samples were taken\n",
    "print(\"Samples were taken across %s days\" % len(beach_days['date'].unique()))"
   ]
  },
  {
   "cell_type": "code",
   "execution_count": 4,
   "metadata": {},
   "outputs": [
    {
     "name": "stdout",
     "output_type": "stream",
     "text": [
      "There are 1463 total beach-days, and 955 unique predictions\n"
     ]
    }
   ],
   "source": [
    "print(\"There are %s total beach-days, and %s unique predictions\" %\n",
    "     (str(len(beach_days)), str(len(beach_days.loc[~beach_days['predicted_level'].isnull()]))))"
   ]
  },
  {
   "cell_type": "code",
   "execution_count": 6,
   "metadata": {
    "scrolled": true
   },
   "outputs": [
    {
     "data": {
      "text/html": [
       "<div>\n",
       "<table border=\"1\" class=\"dataframe\">\n",
       "  <thead>\n",
       "    <tr style=\"text-align: right;\">\n",
       "      <th></th>\n",
       "      <th>dna_reading_mean</th>\n",
       "      <th>dna_test_id</th>\n",
       "      <th>location</th>\n",
       "      <th>date</th>\n",
       "      <th>beach_name</th>\n",
       "      <th>predicted_level</th>\n",
       "      <th>elevated</th>\n",
       "      <th>predicted_elevated</th>\n",
       "    </tr>\n",
       "  </thead>\n",
       "  <tbody>\n",
       "    <tr>\n",
       "      <th>0</th>\n",
       "      <td>44.698993</td>\n",
       "      <td>4836</td>\n",
       "      <td>{'type': 'Point', 'coordinates': [-87.5299, 41...</td>\n",
       "      <td>2017-08-07</td>\n",
       "      <td>Calumet</td>\n",
       "      <td>NaN</td>\n",
       "      <td>False</td>\n",
       "      <td>False</td>\n",
       "    </tr>\n",
       "    <tr>\n",
       "      <th>1</th>\n",
       "      <td>945.461792</td>\n",
       "      <td>4837</td>\n",
       "      <td>{'type': 'Point', 'coordinates': [-87.5636, 41...</td>\n",
       "      <td>2017-08-07</td>\n",
       "      <td>South Shore</td>\n",
       "      <td>NaN</td>\n",
       "      <td>False</td>\n",
       "      <td>False</td>\n",
       "    </tr>\n",
       "    <tr>\n",
       "      <th>2</th>\n",
       "      <td>192.686274</td>\n",
       "      <td>4844</td>\n",
       "      <td>{'type': 'Point', 'coordinates': [-87.6663, 42...</td>\n",
       "      <td>2017-08-07</td>\n",
       "      <td>Howard</td>\n",
       "      <td>NaN</td>\n",
       "      <td>False</td>\n",
       "      <td>False</td>\n",
       "    </tr>\n",
       "    <tr>\n",
       "      <th>3</th>\n",
       "      <td>176.414285</td>\n",
       "      <td>4841</td>\n",
       "      <td>{'type': 'Point', 'coordinates': [-87.6385, 41...</td>\n",
       "      <td>2017-08-07</td>\n",
       "      <td>Montrose</td>\n",
       "      <td>NaN</td>\n",
       "      <td>False</td>\n",
       "      <td>False</td>\n",
       "    </tr>\n",
       "    <tr>\n",
       "      <th>4</th>\n",
       "      <td>212.915476</td>\n",
       "      <td>4839</td>\n",
       "      <td>{'type': 'Point', 'coordinates': [-87.6152, 41...</td>\n",
       "      <td>2017-08-07</td>\n",
       "      <td>Ohio Street</td>\n",
       "      <td>NaN</td>\n",
       "      <td>False</td>\n",
       "      <td>False</td>\n",
       "    </tr>\n",
       "    <tr>\n",
       "      <th>5</th>\n",
       "      <td>73.525506</td>\n",
       "      <td>4867</td>\n",
       "      <td>{'type': 'Point', 'coordinates': [-87.6072, 41...</td>\n",
       "      <td>2017-08-07</td>\n",
       "      <td>Margaret T Burroughs (31st)</td>\n",
       "      <td>NaN</td>\n",
       "      <td>False</td>\n",
       "      <td>False</td>\n",
       "    </tr>\n",
       "    <tr>\n",
       "      <th>6</th>\n",
       "      <td>154.987096</td>\n",
       "      <td>4871</td>\n",
       "      <td>{'type': 'Point', 'coordinates': [-87.6515, 41...</td>\n",
       "      <td>2017-08-07</td>\n",
       "      <td>Foster</td>\n",
       "      <td>NaN</td>\n",
       "      <td>False</td>\n",
       "      <td>False</td>\n",
       "    </tr>\n",
       "    <tr>\n",
       "      <th>7</th>\n",
       "      <td>10.246951</td>\n",
       "      <td>4868</td>\n",
       "      <td>{'type': 'Point', 'coordinates': [-87.6083, 41...</td>\n",
       "      <td>2017-08-07</td>\n",
       "      <td>12th Street</td>\n",
       "      <td>NaN</td>\n",
       "      <td>False</td>\n",
       "      <td>False</td>\n",
       "    </tr>\n",
       "    <tr>\n",
       "      <th>8</th>\n",
       "      <td>14186.839394</td>\n",
       "      <td>4840</td>\n",
       "      <td>{'type': 'Point', 'coordinates': [-87.703717, ...</td>\n",
       "      <td>2017-08-07</td>\n",
       "      <td>Humboldt</td>\n",
       "      <td>NaN</td>\n",
       "      <td>True</td>\n",
       "      <td>False</td>\n",
       "    </tr>\n",
       "    <tr>\n",
       "      <th>9</th>\n",
       "      <td>233.846103</td>\n",
       "      <td>4872</td>\n",
       "      <td>{'type': 'Point', 'coordinates': [-87.6564, 42...</td>\n",
       "      <td>2017-08-07</td>\n",
       "      <td>Hartigan (Albion)</td>\n",
       "      <td>NaN</td>\n",
       "      <td>False</td>\n",
       "      <td>False</td>\n",
       "    </tr>\n",
       "  </tbody>\n",
       "</table>\n",
       "</div>"
      ],
      "text/plain": [
       "   dna_reading_mean  dna_test_id  \\\n",
       "0         44.698993         4836   \n",
       "1        945.461792         4837   \n",
       "2        192.686274         4844   \n",
       "3        176.414285         4841   \n",
       "4        212.915476         4839   \n",
       "5         73.525506         4867   \n",
       "6        154.987096         4871   \n",
       "7         10.246951         4868   \n",
       "8      14186.839394         4840   \n",
       "9        233.846103         4872   \n",
       "\n",
       "                                            location        date  \\\n",
       "0  {'type': 'Point', 'coordinates': [-87.5299, 41...  2017-08-07   \n",
       "1  {'type': 'Point', 'coordinates': [-87.5636, 41...  2017-08-07   \n",
       "2  {'type': 'Point', 'coordinates': [-87.6663, 42...  2017-08-07   \n",
       "3  {'type': 'Point', 'coordinates': [-87.6385, 41...  2017-08-07   \n",
       "4  {'type': 'Point', 'coordinates': [-87.6152, 41...  2017-08-07   \n",
       "5  {'type': 'Point', 'coordinates': [-87.6072, 41...  2017-08-07   \n",
       "6  {'type': 'Point', 'coordinates': [-87.6515, 41...  2017-08-07   \n",
       "7  {'type': 'Point', 'coordinates': [-87.6083, 41...  2017-08-07   \n",
       "8  {'type': 'Point', 'coordinates': [-87.703717, ...  2017-08-07   \n",
       "9  {'type': 'Point', 'coordinates': [-87.6564, 42...  2017-08-07   \n",
       "\n",
       "                    beach_name  predicted_level elevated predicted_elevated  \n",
       "0                      Calumet              NaN    False              False  \n",
       "1                  South Shore              NaN    False              False  \n",
       "2                       Howard              NaN    False              False  \n",
       "3                     Montrose              NaN    False              False  \n",
       "4                  Ohio Street              NaN    False              False  \n",
       "5  Margaret T Burroughs (31st)              NaN    False              False  \n",
       "6                       Foster              NaN    False              False  \n",
       "7                  12th Street              NaN    False              False  \n",
       "8                     Humboldt              NaN     True              False  \n",
       "9            Hartigan (Albion)              NaN    False              False  "
      ]
     },
     "execution_count": 6,
     "metadata": {},
     "output_type": "execute_result"
    }
   ],
   "source": [
    "beach_days['elevated'] = beach_days['dna_reading_mean'] >= 1000\n",
    "beach_days['predicted_elevated'] = beach_days['predicted_level'] >=250\n",
    "\n",
    "beach_days.head(10)"
   ]
  },
  {
   "cell_type": "code",
   "execution_count": 9,
   "metadata": {},
   "outputs": [
    {
     "data": {
      "text/plain": [
       "955"
      ]
     },
     "execution_count": 9,
     "metadata": {},
     "output_type": "execute_result"
    }
   ],
   "source": [
    "predicted_days = beach_days.loc[~beach_days['predicted_level'].isnull()]\n",
    "len(predicted_days)"
   ]
  },
  {
   "cell_type": "code",
   "execution_count": 10,
   "metadata": {},
   "outputs": [
    {
     "data": {
      "text/plain": [
       "1463"
      ]
     },
     "execution_count": 10,
     "metadata": {},
     "output_type": "execute_result"
    }
   ],
   "source": [
    "measured_days = beach_days.loc[~beach_days['dna_reading_mean'].isnull()]\n",
    "len(measured_days)"
   ]
  },
  {
   "cell_type": "code",
   "execution_count": 33,
   "metadata": {},
   "outputs": [
    {
     "data": {
      "text/plain": [
       "955"
      ]
     },
     "execution_count": 33,
     "metadata": {},
     "output_type": "execute_result"
    }
   ],
   "source": [
    "days_with_both = predicted_days.loc[~predicted_days['dna_reading_mean'].isnull()]\n",
    "len(days_with_both)"
   ]
  },
  {
   "cell_type": "code",
   "execution_count": 34,
   "metadata": {},
   "outputs": [
    {
     "data": {
      "text/plain": [
       "21"
      ]
     },
     "execution_count": 34,
     "metadata": {},
     "output_type": "execute_result"
    }
   ],
   "source": [
    "# Days that were elevated, and were correctly predicted so\n",
    "days_predicted_correctly = days_with_both.loc[(days_with_both['predicted_elevated']) & (days_with_both['elevated'])]\n",
    "len(days_predicted_correctly)"
   ]
  },
  {
   "cell_type": "code",
   "execution_count": 35,
   "metadata": {},
   "outputs": [
    {
     "data": {
      "text/plain": [
       "40"
      ]
     },
     "execution_count": 35,
     "metadata": {},
     "output_type": "execute_result"
    }
   ],
   "source": [
    "# Days that were elevated, but were not predicted elevated\n",
    "days_predicted_correctly = days_with_both.loc[(days_with_both['predicted_elevated'] == 0) & (days_with_both['elevated'])]\n",
    "len(days_predicted_correctly)"
   ]
  },
  {
   "cell_type": "code",
   "execution_count": 36,
   "metadata": {},
   "outputs": [
    {
     "data": {
      "text/plain": [
       "107"
      ]
     },
     "execution_count": 36,
     "metadata": {},
     "output_type": "execute_result"
    }
   ],
   "source": [
    "# Days that were not elevated, but predicted so\n",
    "days_predicted_correctly = days_with_both.loc[(days_with_both['predicted_elevated']) & (0 == days_with_both['elevated'])]\n",
    "len(days_predicted_correctly)"
   ]
  },
  {
   "cell_type": "code",
   "execution_count": 38,
   "metadata": {},
   "outputs": [
    {
     "data": {
      "text/plain": [
       "787"
      ]
     },
     "execution_count": 38,
     "metadata": {},
     "output_type": "execute_result"
    }
   ],
   "source": [
    "# Days that were not elevated and predicted not elevated\n",
    "days_predicted_correctly = days_with_both.loc[(0 == days_with_both['predicted_elevated']) & (0 == days_with_both['elevated'])]\n",
    "len(days_predicted_correctly)"
   ]
  },
  {
   "cell_type": "code",
   "execution_count": 49,
   "metadata": {},
   "outputs": [
    {
     "data": {
      "text/html": [
       "<div>\n",
       "<table border=\"1\" class=\"dataframe\">\n",
       "  <thead>\n",
       "    <tr style=\"text-align: right;\">\n",
       "      <th></th>\n",
       "    </tr>\n",
       "  </thead>\n",
       "  <tbody>\n",
       "  </tbody>\n",
       "</table>\n",
       "</div>"
      ],
      "text/plain": [
       "Empty DataFrame\n",
       "Columns: []\n",
       "Index: []"
      ]
     },
     "execution_count": 49,
     "metadata": {},
     "output_type": "execute_result"
    }
   ],
   "source": [
    "a = pd.DataFrame()\n",
    "a.append(\n",
    "    ['TP (elevated, predicted elevated)',\n",
    "         len(days_with_both.loc[(days_with_both['predicted_elevated']) & (days_with_both['elevated'])])),\n",
    "         ('TN (elevated, but predicted not)',\n",
    "         len(days_with_both.loc[(days_with_both['predicted_elevated'] == 0) & (days_with_both['elevated'])])),\n",
    "         ('FP (not elevated, but predicted so)',\n",
    "         len(days_with_both.loc[(days_with_both['predicted_elevated']) & (0 == days_with_both['elevated'])])),\n",
    "         ('FN (not elevated, not predicted so)',\n",
    "         len(days_with_both.loc[(0 == days_with_both['predicted_elevated']) & (0 == days_with_both['elevated'])]))\n",
    "    ]\n",
    ")\n",
    "a.head()"
   ]
  },
  {
   "cell_type": "code",
   "execution_count": null,
   "metadata": {
    "collapsed": true
   },
   "outputs": [],
   "source": []
  },
  {
   "cell_type": "code",
   "execution_count": 37,
   "metadata": {},
   "outputs": [
    {
     "data": {
      "text/plain": [
       "<matplotlib.axes._subplots.AxesSubplot at 0x10b6044e0>"
      ]
     },
     "execution_count": 37,
     "metadata": {},
     "output_type": "execute_result"
    },
    {
     "data": {
      "image/png": "[encoded data removed]",
      "text/plain": [
       "<matplotlib.figure.Figure at 0x10b6047b8>"
      ]
     },
     "metadata": {},
     "output_type": "display_data"
    }
   ],
   "source": [
    "# For the DNA testing, the threshold for an advisory is 1000 CFU.  How many beaches exceed that?\n",
    "beach_days.loc[beach_days['dna_reading_mean'] >= 1000].groupby('beach_name').count()['date']\\\n",
    "    .sort_values(ascending=False).plot(kind=\"bar\", title=\"Samples above 1000 cfu\")"
   ]
  },
  {
   "cell_type": "code",
   "execution_count": 7,
   "metadata": {},
   "outputs": [
    {
     "data": {
      "text/plain": [
       "<matplotlib.text.Text at 0x1102af4e0>"
      ]
     },
     "execution_count": 7,
     "metadata": {},
     "output_type": "execute_result"
    },
    {
     "data": {
      "image/png": "[encoded data removed]",
      "text/plain": [
       "<matplotlib.figure.Figure at 0x10f9b5f98>"
      ]
     },
     "metadata": {},
     "output_type": "display_data"
    }
   ],
   "source": [
    "beach_days.loc[beach_days['dna_reading_mean'] >= 1000].groupby('date').count()['location']\\\n",
    "    .plot(kind=\"bar\", title=\"Days with samples above 1000 cfu\").set_ylabel(\"Numbrt of samples exceeding threshold\")"
   ]
  },
  {
   "cell_type": "code",
   "execution_count": 8,
   "metadata": {
    "scrolled": true
   },
   "outputs": [
    {
     "data": {
      "text/plain": [
       "<matplotlib.axes._subplots.AxesSubplot at 0x11048e390>"
      ]
     },
     "execution_count": 8,
     "metadata": {},
     "output_type": "execute_result"
    },
    {
     "data": {
      "image/png": "[encoded data removed]",
      "text/plain": [
       "<matplotlib.figure.Figure at 0x1102b8a90>"
      ]
     },
     "metadata": {},
     "output_type": "display_data"
    }
   ],
   "source": [
    "# Samples that exceed threshold\n",
    "beach_days['dna_exceeds'] = beach_days['dna_reading_mean'] > 1000\n",
    "beach_days.groupby('dna_exceeds').count()['date'].plot(kind=\"pie\", title=\"Percent of samples taken that exceed 1000 cfu\", autopct='%1.1f%%')"
   ]
  },
  {
   "cell_type": "code",
   "execution_count": 9,
   "metadata": {},
   "outputs": [
    {
     "data": {
      "text/html": [
       "<div>\n",
       "<table border=\"1\" class=\"dataframe\">\n",
       "  <thead>\n",
       "    <tr style=\"text-align: right;\">\n",
       "      <th></th>\n",
       "      <th>beach_name</th>\n",
       "      <th>date</th>\n",
       "      <th>dna_reading_mean</th>\n",
       "    </tr>\n",
       "  </thead>\n",
       "  <tbody>\n",
       "    <tr>\n",
       "      <th>250</th>\n",
       "      <td>63rd Street</td>\n",
       "      <td>2017-06-13</td>\n",
       "      <td>9386.074046</td>\n",
       "    </tr>\n",
       "    <tr>\n",
       "      <th>47</th>\n",
       "      <td>Humboldt</td>\n",
       "      <td>2017-06-23</td>\n",
       "      <td>7451.962963</td>\n",
       "    </tr>\n",
       "    <tr>\n",
       "      <th>120</th>\n",
       "      <td>Ohio Street</td>\n",
       "      <td>2017-06-19</td>\n",
       "      <td>6264.337954</td>\n",
       "    </tr>\n",
       "    <tr>\n",
       "      <th>209</th>\n",
       "      <td>Humboldt</td>\n",
       "      <td>2017-06-15</td>\n",
       "      <td>6083.474829</td>\n",
       "    </tr>\n",
       "    <tr>\n",
       "      <th>550</th>\n",
       "      <td>Humboldt</td>\n",
       "      <td>2017-05-29</td>\n",
       "      <td>5669.991182</td>\n",
       "    </tr>\n",
       "    <tr>\n",
       "      <th>43</th>\n",
       "      <td>63rd Street</td>\n",
       "      <td>2017-06-23</td>\n",
       "      <td>5393.683435</td>\n",
       "    </tr>\n",
       "    <tr>\n",
       "      <th>536</th>\n",
       "      <td>Humboldt</td>\n",
       "      <td>2017-05-30</td>\n",
       "      <td>4565.198791</td>\n",
       "    </tr>\n",
       "    <tr>\n",
       "      <th>109</th>\n",
       "      <td>63rd Street</td>\n",
       "      <td>2017-06-20</td>\n",
       "      <td>3794.843080</td>\n",
       "    </tr>\n",
       "    <tr>\n",
       "      <th>243</th>\n",
       "      <td>Montrose</td>\n",
       "      <td>2017-06-13</td>\n",
       "      <td>3619.694186</td>\n",
       "    </tr>\n",
       "    <tr>\n",
       "      <th>397</th>\n",
       "      <td>Montrose</td>\n",
       "      <td>2017-06-05</td>\n",
       "      <td>3223.844289</td>\n",
       "    </tr>\n",
       "    <tr>\n",
       "      <th>303</th>\n",
       "      <td>Montrose</td>\n",
       "      <td>2017-06-10</td>\n",
       "      <td>3130.439266</td>\n",
       "    </tr>\n",
       "    <tr>\n",
       "      <th>135</th>\n",
       "      <td>63rd Street</td>\n",
       "      <td>2017-06-19</td>\n",
       "      <td>2989.556154</td>\n",
       "    </tr>\n",
       "    <tr>\n",
       "      <th>573</th>\n",
       "      <td>Humboldt</td>\n",
       "      <td>2017-05-28</td>\n",
       "      <td>2663.274676</td>\n",
       "    </tr>\n",
       "    <tr>\n",
       "      <th>45</th>\n",
       "      <td>Rainbow</td>\n",
       "      <td>2017-06-23</td>\n",
       "      <td>2559.124850</td>\n",
       "    </tr>\n",
       "    <tr>\n",
       "      <th>237</th>\n",
       "      <td>Montrose</td>\n",
       "      <td>2017-06-14</td>\n",
       "      <td>2519.698196</td>\n",
       "    </tr>\n",
       "    <tr>\n",
       "      <th>21</th>\n",
       "      <td>Calumet</td>\n",
       "      <td>2017-06-24</td>\n",
       "      <td>2365.059407</td>\n",
       "    </tr>\n",
       "    <tr>\n",
       "      <th>220</th>\n",
       "      <td>63rd Street</td>\n",
       "      <td>2017-06-14</td>\n",
       "      <td>2244.110291</td>\n",
       "    </tr>\n",
       "    <tr>\n",
       "      <th>244</th>\n",
       "      <td>57th Street</td>\n",
       "      <td>2017-06-13</td>\n",
       "      <td>2036.163058</td>\n",
       "    </tr>\n",
       "    <tr>\n",
       "      <th>97</th>\n",
       "      <td>Rainbow</td>\n",
       "      <td>2017-06-21</td>\n",
       "      <td>2003.142531</td>\n",
       "    </tr>\n",
       "    <tr>\n",
       "      <th>584</th>\n",
       "      <td>Humboldt</td>\n",
       "      <td>2017-05-27</td>\n",
       "      <td>1995.911321</td>\n",
       "    </tr>\n",
       "  </tbody>\n",
       "</table>\n",
       "</div>"
      ],
      "text/plain": [
       "      beach_name        date  dna_reading_mean\n",
       "250  63rd Street  2017-06-13       9386.074046\n",
       "47      Humboldt  2017-06-23       7451.962963\n",
       "120  Ohio Street  2017-06-19       6264.337954\n",
       "209     Humboldt  2017-06-15       6083.474829\n",
       "550     Humboldt  2017-05-29       5669.991182\n",
       "43   63rd Street  2017-06-23       5393.683435\n",
       "536     Humboldt  2017-05-30       4565.198791\n",
       "109  63rd Street  2017-06-20       3794.843080\n",
       "243     Montrose  2017-06-13       3619.694186\n",
       "397     Montrose  2017-06-05       3223.844289\n",
       "303     Montrose  2017-06-10       3130.439266\n",
       "135  63rd Street  2017-06-19       2989.556154\n",
       "573     Humboldt  2017-05-28       2663.274676\n",
       "45       Rainbow  2017-06-23       2559.124850\n",
       "237     Montrose  2017-06-14       2519.698196\n",
       "21       Calumet  2017-06-24       2365.059407\n",
       "220  63rd Street  2017-06-14       2244.110291\n",
       "244  57th Street  2017-06-13       2036.163058\n",
       "97       Rainbow  2017-06-21       2003.142531\n",
       "584     Humboldt  2017-05-27       1995.911321"
      ]
     },
     "execution_count": 9,
     "metadata": {},
     "output_type": "execute_result"
    }
   ],
   "source": [
    "# What have been the highest readings so far?\n",
    "beach_days.sort_values('dna_reading_mean', ascending=False)[['beach_name', 'date', 'dna_reading_mean']].head(20)"
   ]
  },
  {
   "cell_type": "code",
   "execution_count": null,
   "metadata": {
    "collapsed": true
   },
   "outputs": [],
   "source": []
  }
 ],
 "metadata": {
  "kernelspec": {
   "display_name": "Python 3",
   "language": "python",
   "name": "python3"
  },
  "language_info": {
   "codemirror_mode": {
    "name": "ipython",
    "version": 3
   },
   "file_extension": ".py",
   "mimetype": "text/x-python",
   "name": "python",
   "nbconvert_exporter": "python",
   "pygments_lexer": "ipython3",
   "version": "3.6.0"
  }
 },
 "nbformat": 4,
 "nbformat_minor": 2
}
